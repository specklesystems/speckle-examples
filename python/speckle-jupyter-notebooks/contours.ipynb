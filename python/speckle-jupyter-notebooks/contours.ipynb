{
 "cells": [
  {
   "cell_type": "code",
   "execution_count": 1,
   "metadata": {},
   "outputs": [
    {
     "name": "stderr",
     "output_type": "stream",
     "text": [
      "/home/jsdbroughton/repos/speckle/speckle-examples/python/speckle-jupyter-notebooks/.venv/lib/python3.8/site-packages/specklepy/api/wrapper.py:165: SpeckleWarning: No local account found for server speckle.xyz\n",
      "  warn(f\"No local account found for server {self.host}\", SpeckleWarning)\n"
     ]
    }
   ],
   "source": [
    "from specklepy.api.wrapper import StreamWrapper\n",
    "\n",
    "# Your Speckle Stream URL goes here 👇\n",
    "stream_url = \"https://speckle.xyz/streams/16a7ca997a/commits/91d82f4ea1\"\n",
    "\n",
    "# wrapper\n",
    "wrapper = StreamWrapper(stream_url)\n",
    "\n",
    "\n",
    "client = wrapper.get_client()"
   ]
  },
  {
   "cell_type": "code",
   "execution_count": 3,
   "metadata": {},
   "outputs": [
    {
     "data": {
      "text/plain": [
       "SpeckleClient( server: https://speckle.xyz, authenticated: True )"
      ]
     },
     "execution_count": 3,
     "metadata": {},
     "output_type": "execute_result"
    }
   ],
   "source": [
    "# boilerplate user credentials and server\n",
    "\n",
    "import os\n",
    "HOST_SERVER = os.getenv('HOST_SERVER')\n",
    "ACCESS_TOKEN = os.getenv('ACCESS_TOKEN')\n",
    "\n",
    "from specklepy.api.client import SpeckleClient\n",
    "\n",
    "client = SpeckleClient(host=HOST_SERVER)  # or whatever your host is\n",
    "client.authenticate_with_token(ACCESS_TOKEN)  # or whatever your token is"
   ]
  },
  {
   "cell_type": "code",
   "execution_count": 7,
   "metadata": {},
   "outputs": [
    {
     "ename": "SpeckleException",
     "evalue": "SpeckleException: Can't get object 16a7ca997a/75ced82285e5827d2b6a7c9ce86dc6e7: HTTP error 403 ({\"error\":\"Your token is not valid.\"})",
     "output_type": "error",
     "traceback": [
      "\u001b[0;31m---------------------------------------------------------------------------\u001b[0m",
      "\u001b[0;31mSpeckleException\u001b[0m                          Traceback (most recent call last)",
      "Cell \u001b[0;32mIn[7], line 11\u001b[0m\n\u001b[1;32m      8\u001b[0m obj_id \u001b[39m=\u001b[39m commit\u001b[39m.\u001b[39mreferencedObject\n\u001b[1;32m     10\u001b[0m \u001b[39m# receive objects from speckle\u001b[39;00m\n\u001b[0;32m---> 11\u001b[0m commit_data \u001b[39m=\u001b[39m operations\u001b[39m.\u001b[39;49mreceive(\n\u001b[1;32m     12\u001b[0m     obj_id\u001b[39m=\u001b[39;49mobj_id, remote_transport\u001b[39m=\u001b[39;49mwrapper\u001b[39m.\u001b[39;49mget_transport()\n\u001b[1;32m     13\u001b[0m )\n",
      "File \u001b[0;32m~/repos/speckle/speckle-examples/python/speckle-jupyter-notebooks/.venv/lib/python3.8/site-packages/specklepy/api/operations.py:61\u001b[0m, in \u001b[0;36mreceive\u001b[0;34m(obj_id, remote_transport, local_transport)\u001b[0m\n\u001b[1;32m     55\u001b[0m \u001b[39mdef\u001b[39;00m \u001b[39mreceive\u001b[39m(\n\u001b[1;32m     56\u001b[0m     obj_id: \u001b[39mstr\u001b[39m,\n\u001b[1;32m     57\u001b[0m     remote_transport: Optional[AbstractTransport] \u001b[39m=\u001b[39m \u001b[39mNone\u001b[39;00m,\n\u001b[1;32m     58\u001b[0m     local_transport: Optional[AbstractTransport] \u001b[39m=\u001b[39m \u001b[39mNone\u001b[39;00m,\n\u001b[1;32m     59\u001b[0m ) \u001b[39m-\u001b[39m\u001b[39m>\u001b[39m Base:\n\u001b[1;32m     60\u001b[0m     metrics\u001b[39m.\u001b[39mtrack(metrics\u001b[39m.\u001b[39mRECEIVE, \u001b[39mgetattr\u001b[39m(remote_transport, \u001b[39m\"\u001b[39m\u001b[39maccount\u001b[39m\u001b[39m\"\u001b[39m, \u001b[39mNone\u001b[39;00m))\n\u001b[0;32m---> 61\u001b[0m     \u001b[39mreturn\u001b[39;00m _untracked_receive(obj_id, remote_transport, local_transport)\n",
      "File \u001b[0;32m~/repos/speckle/speckle-examples/python/speckle-jupyter-notebooks/.venv/lib/python3.8/site-packages/specklepy/api/operations.py:98\u001b[0m, in \u001b[0;36m_untracked_receive\u001b[0;34m(obj_id, remote_transport, local_transport)\u001b[0m\n\u001b[1;32m     90\u001b[0m \u001b[39mif\u001b[39;00m \u001b[39mnot\u001b[39;00m remote_transport:\n\u001b[1;32m     91\u001b[0m     \u001b[39mraise\u001b[39;00m SpeckleException(\n\u001b[1;32m     92\u001b[0m         message\u001b[39m=\u001b[39m(\n\u001b[1;32m     93\u001b[0m             \u001b[39m\"\u001b[39m\u001b[39mCould not find the specified object using the local transport, and you\u001b[39m\u001b[39m\"\u001b[39m\n\u001b[1;32m     94\u001b[0m             \u001b[39m\"\u001b[39m\u001b[39m didn\u001b[39m\u001b[39m'\u001b[39m\u001b[39mt provide a fallback remote from which to pull it.\u001b[39m\u001b[39m\"\u001b[39m\n\u001b[1;32m     95\u001b[0m         )\n\u001b[1;32m     96\u001b[0m     )\n\u001b[0;32m---> 98\u001b[0m obj_string \u001b[39m=\u001b[39m remote_transport\u001b[39m.\u001b[39;49mcopy_object_and_children(\n\u001b[1;32m     99\u001b[0m     \u001b[39mid\u001b[39;49m\u001b[39m=\u001b[39;49mobj_id, target_transport\u001b[39m=\u001b[39;49mlocal_transport\n\u001b[1;32m    100\u001b[0m )\n\u001b[1;32m    102\u001b[0m \u001b[39mreturn\u001b[39;00m serializer\u001b[39m.\u001b[39mread_json(obj_string\u001b[39m=\u001b[39mobj_string)\n",
      "File \u001b[0;32m~/repos/speckle/speckle-examples/python/speckle-jupyter-notebooks/.venv/lib/python3.8/site-packages/specklepy/transports/server/server.py:141\u001b[0m, in \u001b[0;36mServerTransport.copy_object_and_children\u001b[0;34m(self, id, target_transport)\u001b[0m\n\u001b[1;32m    138\u001b[0m r\u001b[39m.\u001b[39mencoding \u001b[39m=\u001b[39m \u001b[39m\"\u001b[39m\u001b[39mutf-8\u001b[39m\u001b[39m\"\u001b[39m\n\u001b[1;32m    140\u001b[0m \u001b[39mif\u001b[39;00m r\u001b[39m.\u001b[39mstatus_code \u001b[39m!=\u001b[39m \u001b[39m200\u001b[39m:\n\u001b[0;32m--> 141\u001b[0m     \u001b[39mraise\u001b[39;00m SpeckleException(\n\u001b[1;32m    142\u001b[0m         \u001b[39mf\u001b[39m\u001b[39m\"\u001b[39m\u001b[39mCan\u001b[39m\u001b[39m'\u001b[39m\u001b[39mt get object \u001b[39m\u001b[39m{\u001b[39;00m\u001b[39mself\u001b[39m\u001b[39m.\u001b[39mstream_id\u001b[39m}\u001b[39;00m\u001b[39m/\u001b[39m\u001b[39m{\u001b[39;00m\u001b[39mid\u001b[39m\u001b[39m}\u001b[39;00m\u001b[39m: HTTP error\u001b[39m\u001b[39m\"\u001b[39m\n\u001b[1;32m    143\u001b[0m         \u001b[39mf\u001b[39m\u001b[39m\"\u001b[39m\u001b[39m \u001b[39m\u001b[39m{\u001b[39;00mr\u001b[39m.\u001b[39mstatus_code\u001b[39m}\u001b[39;00m\u001b[39m (\u001b[39m\u001b[39m{\u001b[39;00mr\u001b[39m.\u001b[39mtext[:\u001b[39m1000\u001b[39m]\u001b[39m}\u001b[39;00m\u001b[39m)\u001b[39m\u001b[39m\"\u001b[39m\n\u001b[1;32m    144\u001b[0m     )\n\u001b[1;32m    145\u001b[0m root_obj_serialized \u001b[39m=\u001b[39m r\u001b[39m.\u001b[39mtext\n\u001b[1;32m    146\u001b[0m root_obj \u001b[39m=\u001b[39m json\u001b[39m.\u001b[39mloads(root_obj_serialized)\n",
      "\u001b[0;31mSpeckleException\u001b[0m: SpeckleException: Can't get object 16a7ca997a/75ced82285e5827d2b6a7c9ce86dc6e7: HTTP error 403 ({\"error\":\"Your token is not valid.\"})"
     ]
    }
   ],
   "source": [
    "from specklepy.api import operations\n",
    "\n",
    "# Receive data in Python\n",
    "\n",
    "commit = client.commit.get(wrapper.stream_id, wrapper.commit_id)\n",
    "\n",
    "# get obj id from commit\n",
    "obj_id = commit.referencedObject\n",
    "\n",
    "# receive objects from speckle\n",
    "commit_data = operations.receive(\n",
    "    obj_id=obj_id, remote_transport=wrapper.get_transport()\n",
    ")\n"
   ]
  }
 ],
 "metadata": {
  "kernelspec": {
   "display_name": ".venv",
   "language": "python",
   "name": "python3"
  },
  "language_info": {
   "codemirror_mode": {
    "name": "ipython",
    "version": 3
   },
   "file_extension": ".py",
   "mimetype": "text/x-python",
   "name": "python",
   "nbconvert_exporter": "python",
   "pygments_lexer": "ipython3",
   "version": "3.8.10"
  },
  "orig_nbformat": 4
 },
 "nbformat": 4,
 "nbformat_minor": 2
}
