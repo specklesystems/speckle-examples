{
 "cells": [
  {
   "attachments": {},
   "cell_type": "markdown",
   "metadata": {},
   "source": [
    "# Version Diffing with Python\n",
    "\n",
    "In this tutorial, we will explore different approaches to compare JSON objects from Speckle commits. Speckle is a data management platform that allows users to store, share, and manage data across multiple applications. The goal of this tutorial is to provide you with a comprehensive understanding of the following:\n",
    "\n",
    "1. **Using Speckle SDKs** 🛠️: We will start by demonstrating how to use the Speckle SDKs for Python to retrieve and handle source data from Speckle. This will help you understand how to work with the Speckle platform more effectively and perform the comparison using the SDKs. (Jupyter Notebook)\n",
    "\n",
    "2. **Basic Example in Python** 🐍: Next, we will provide a simple Python implementation to compare JSON objects from two Speckle commits. This will help you understand the basic structure of the problem and how to approach it. (Jupyter Notebook)\n",
    "\n",
    "By the end of this tutorial, you should have a clear understanding of various approaches to compare JSON objects from Speckle commits, and how to choose the best approach based on your specific use case. 💡"
   ]
  },
  {
   "attachments": {},
   "cell_type": "markdown",
   "metadata": {},
   "source": [
    "## Using Speckle SDKs\n",
    "\n",
    "The Speckle SDKs provide a set of tools to help you work with the Speckle platform. In this tutorial, we will use the Speckle Python SDK (specklepy) to retrieve and handle source data from Speckle. The specklepy is a Python library that allows you to interact with the Speckle API and perform various operations on Speckle objects. You can find more information about the Speckle Python SDK [here](https://speckle.guide/dev/python.html).\n",
    "\n",
    "### Installation\n",
    "\n",
    "To install the Speckle Python SDK, you can use the following command:\n",
    "  \n",
    "  ```python\n",
    "  pip install specklepy\n",
    "  ```\n",
    "\n",
    "---\n",
    "*In a Jupyter Notebook, I add some special sauce for cli tasks into the Jupyter kernel. This allows me to run the same code in a notebook as I would in a terminal. `%%capture` is a Jupyter magic command that captures the output of a cell, useful for installs which are noisy outputs*\n"
   ]
  },
  {
   "cell_type": "code",
   "execution_count": 1,
   "metadata": {},
   "outputs": [],
   "source": [
    "%%capture\n",
    "%pip install specklepy\n",
    "\n",
    "# dotenv is a library that allows you to load environment variables from a .env file\n",
    "%pip install python-dotenv\n",
    "%reload_ext dotenv\n",
    "%dotenv"
   ]
  },
  {
   "attachments": {},
   "cell_type": "markdown",
   "metadata": {},
   "source": [
    "Retrieving the Speckle commit data is a two-step process. First, we need to retrieve the commit object from the Speckle server. Then, we can use the commit object to retrieve the actual data. The following code snippet demonstrates how to retrieve the commit object from the Speckle server:"
   ]
  },
  {
   "cell_type": "code",
   "execution_count": 2,
   "metadata": {},
   "outputs": [],
   "source": [
    "# boilerplate user credentials and server\n",
    "\n",
    "import os\n",
    "HOST_SERVER = os.getenv('HOST_SERVER')\n",
    "ACCESS_TOKEN = os.getenv('ACCESS_TOKEN')"
   ]
  },
  {
   "cell_type": "code",
   "execution_count": 3,
   "metadata": {},
   "outputs": [],
   "source": [
    "from specklepy.api.client import SpeckleClient\n",
    "\n",
    "client = SpeckleClient(host=HOST_SERVER)  # or whatever your host is\n",
    "client.authenticate_with_token(ACCESS_TOKEN)  # or whatever your token is"
   ]
  },
  {
   "attachments": {},
   "cell_type": "markdown",
   "metadata": {},
   "source": [
    "I will choose a stream and for this first simple example i will retrieve the latest commit to the `main` branch."
   ]
  },
  {
   "cell_type": "code",
   "execution_count": 4,
   "metadata": {},
   "outputs": [],
   "source": [
    "stream_id = \"20e76a799c\"  # or whatever your stream id is\n",
    "\n",
    "from specklepy.transports.server import ServerTransport\n",
    "from specklepy.api.wrapper import StreamWrapper\n",
    "\n",
    "transport = ServerTransport(client=client, stream_id=stream_id)\n",
    "\n",
    "stream = client.stream.get(stream_id)"
   ]
  },
  {
   "attachments": {},
   "cell_type": "markdown",
   "metadata": {},
   "source": [
    "By default the `commit.list()` returns from most recent to oldest, so we can just take the first item in the list."
   ]
  },
  {
   "cell_type": "code",
   "execution_count": 5,
   "metadata": {},
   "outputs": [],
   "source": [
    "commits = client.commit.list(stream_id=stream_id, limit=2)\n",
    "\n",
    "from specklepy.api import operations\n",
    "\n",
    "# get obj id from latest commit\n",
    "latest = commits[0].referencedObject\n",
    "previous = commits[1].referencedObject\n",
    "\n",
    "# receive objects from speckle\n",
    "latest_data = operations.receive(obj_id=latest, remote_transport=transport)\n",
    "previous_data = operations.receive(obj_id=previous, remote_transport=transport)"
   ]
  },
  {
   "attachments": {},
   "cell_type": "markdown",
   "metadata": {},
   "source": [
    "In this example I'm using a simple model from Rhino. This topmost object is a `Collections` object of type `rhino model`.\n",
    "\n",
    "The totalChildrenCount is 25, but those can be a nested structure of any depth. This is collection of all the elements selected and sent in that commit. For ease this is a straightforward model, but in principle you will need to transform the nested data into a flat structure.\n",
    "\n",
    "In the Speckle Docs we have an example of how to do this in .NET but I'll interpret it in Python here."
   ]
  },
  {
   "cell_type": "code",
   "execution_count": 6,
   "metadata": {},
   "outputs": [],
   "source": [
    "from collections.abc import Iterable, Mapping\n",
    "from specklepy.objects import Base\n",
    "\n",
    "\n",
    "def flatten(obj, visited=None):\n",
    "    \n",
    "    # Avoiding pesky circular references\n",
    "    if visited is None:\n",
    "        visited = set()\n",
    "\n",
    "    if obj in visited:\n",
    "        return\n",
    "\n",
    "    visited.add(obj)\n",
    "\n",
    "    # Define a logic for what objects to include in the diff\n",
    "    should_include = any(\n",
    "        [\n",
    "            hasattr(obj, \"displayValue\"),\n",
    "            hasattr(obj, \"speckle_type\")\n",
    "            and obj.speckle_type == \"Objects.Organization.Collection\",\n",
    "            hasattr(obj, \"displayStyle\"),\n",
    "        ]\n",
    "    )\n",
    "\n",
    "    if should_include:\n",
    "        yield obj\n",
    "\n",
    "    props = obj.__dict__\n",
    "\n",
    "    # traverse the object's nested properties - which may include yieldable objects\n",
    "    for prop in props:\n",
    "        value = getattr(obj, prop)\n",
    "\n",
    "        if value is None:\n",
    "            continue\n",
    "\n",
    "        if isinstance(value, Base):\n",
    "            yield from flatten(value, visited)\n",
    "\n",
    "        elif isinstance(value, Mapping):\n",
    "            for dict_value in value.values():\n",
    "                if isinstance(dict_value, Base):\n",
    "                    yield from flatten(dict_value, visited)\n",
    "\n",
    "        elif isinstance(value, Iterable):\n",
    "            for list_value in value:\n",
    "                if isinstance(list_value, Base):\n",
    "                    yield from flatten(list_value, visited)"
   ]
  },
  {
   "attachments": {},
   "cell_type": "markdown",
   "metadata": {},
   "source": [
    "NB: The Speckle ObjectLoader Javascript package also has a `flatten` function that can be used to do this. The GraphTraversal methods in SpeckleSharp can define a custom TraversalBreaker function to do this.\n",
    "\n",
    "You'll also find flattenning methods in some of our Connectors code - choose your poison. "
   ]
  },
  {
   "cell_type": "code",
   "execution_count": 7,
   "metadata": {},
   "outputs": [],
   "source": [
    "latest_objects = list(flatten(latest_data))\n",
    "previous_objects = list(flatten(previous_data))"
   ]
  },
  {
   "attachments": {},
   "cell_type": "markdown",
   "metadata": {},
   "source": [
    "The task at hand is to compare the two commits and find the differences."
   ]
  },
  {
   "cell_type": "code",
   "execution_count": 8,
   "metadata": {},
   "outputs": [],
   "source": [
    "from specklepy.objects.base import Base\n",
    "from typing import List, Tuple\n",
    "\n",
    "\n",
    "def compare_speckle_commits(\n",
    "    commit1_objects: List[Base], commit2_objects: List[Base]\n",
    ") -> Tuple[List[Tuple[Base, Base]], List[Tuple[None, Base]], List[Tuple[Base, None]]]:\n",
    "    commit1_dict = {obj.id: obj for obj in commit1_objects[1:]}\n",
    "    commit2_dict = {obj.id: obj for obj in commit2_objects[1:]}\n",
    "\n",
    "    # Find unchanged objects\n",
    "    for obj_id in commit1_dict.keys():\n",
    "        if obj_id in commit2_dict.keys():\n",
    "            yield (commit1_dict[obj_id], commit2_dict[obj_id]) # old, new\n",
    "\n",
    "    # Find changed objects\n",
    "    for obj_id, obj in commit1_dict.items():\n",
    "        if obj_id not in commit2_dict.keys() and obj.applicationId in [\n",
    "            x.applicationId for x in commit2_dict.values()\n",
    "        ]:\n",
    "            yield (\n",
    "                obj, # old object\n",
    "                [ x for x in commit2_dict.values()\n",
    "                    if x.applicationId == obj.applicationId\n",
    "                ][0], # new changed object\n",
    "            )\n",
    "\n",
    "    # Find added objects\n",
    "    for obj_id, obj in commit2_dict.items():\n",
    "        if obj_id not in commit1_dict.keys() and obj.applicationId not in [\n",
    "            x.applicationId for x in commit1_dict.values()\n",
    "        ]:\n",
    "            yield (None, obj) # old, new\n",
    "\n",
    "    # Find removed objects\n",
    "    for obj_id, obj in commit1_dict.items():\n",
    "        if obj_id not in commit2_dict.keys() and obj.applicationId not in [\n",
    "            x.applicationId for x in commit2_dict.values()\n",
    "        ]:\n",
    "            yield (obj, None) # old, new"
   ]
  },
  {
   "attachments": {},
   "cell_type": "markdown",
   "metadata": {},
   "source": [
    "In this first example, knowing that we are using a small data sample, I am using lists, but this is potentially a O(n^2) operation. Converting these to sets could improve this to O(n) but we will leave that for later. Perhaps I'll award extra credit for community contributions. :D"
   ]
  },
  {
   "attachments": {},
   "cell_type": "markdown",
   "metadata": {},
   "source": [
    "specklepy will soon sync with speckle-sharp and include the Collections object, but for now we can an inplace version from this example."
   ]
  },
  {
   "cell_type": "code",
   "execution_count": 9,
   "metadata": {},
   "outputs": [],
   "source": [
    "from typing import Optional\n",
    "\n",
    "\n",
    "class Collection(\n",
    "    Base, speckle_type=\"Objects.Organization.Collection\", detachable={\"elements\"}\n",
    "):\n",
    "    name: Optional[str] = None\n",
    "    collectionType: Optional[str] = None\n",
    "    elements: Optional[List[Base]] = None"
   ]
  },
  {
   "attachments": {},
   "cell_type": "markdown",
   "metadata": {},
   "source": [
    "The meat and potatoes of the comparison is the `diff` function. This is a recursive function that will compare the two objects and return a list of differences. It will sort the objects into 4 categories: `added`, `removed`, `modified`, and `unchanged`.\n",
    "\n",
    "The 'modified' category is the most interesting. It will use the `applicationId` to determine if an added object is the same as a removed object. If it is, it will be marked as modified. If not, the objects from previous and latest will be marked as added and removed.\n",
    "\n",
    "Highlighting what has changed is beyond the scope of this tutorial, but you can use the `diff` function to find the differences and then use just those ids to limit the scope of your more intensive comparison."
   ]
  },
  {
   "cell_type": "code",
   "execution_count": 10,
   "metadata": {},
   "outputs": [],
   "source": [
    "# Compare two Speckle commits and populate a base object with the results\n",
    "def store_speckle_commit_diff(commit1_objects, commit2_objects):\n",
    "    diff = {\n",
    "      'changed_to': [],\n",
    "      'changed_from': [],\n",
    "      'added': [],\n",
    "      'removed': [],\n",
    "      'unchanged': []\n",
    "    }\n",
    "\n",
    "    for obj in compare_speckle_commits(commit1_objects, commit2_objects):\n",
    "        if getattr(obj[0], \"id\", None) == getattr(obj[1], \"id\", None):            \n",
    "            diff[\"unchanged\"].append(obj[0]) # old object, though it's the same as the new object\n",
    "        elif (\n",
    "            obj[0] is not None\n",
    "            and obj[1] is not None\n",
    "            and getattr(obj[0], \"id\", None) != getattr(obj[1], \"id\", None)\n",
    "        ):\n",
    "            diff[\"changed_to\"].append(obj[1]) # new object\n",
    "            diff[\"changed_from\"].append(obj[0]) # old object\n",
    "        elif obj[0] is None and obj[1] is not None:\n",
    "            diff[\"added\"].append(obj[1]) # new object\n",
    "        elif obj[0] is not None and obj[1] is None:\n",
    "            diff[\"removed\"].append(obj[0]) # old object\n",
    "\n",
    "    return diff"
   ]
  },
  {
   "cell_type": "code",
   "execution_count": 11,
   "metadata": {},
   "outputs": [],
   "source": [
    "diff = store_speckle_commit_diff(previous_objects, latest_objects)"
   ]
  },
  {
   "cell_type": "code",
   "execution_count": 12,
   "metadata": {},
   "outputs": [],
   "source": [
    "diff_result = Base(name=\"Diff\")\n",
    "\n",
    "unchanged = Collection(\n",
    "    name=\"Unchanged\",\n",
    "    elements=[\n",
    "        o\n",
    "        for o in diff[\"unchanged\"]\n",
    "        if o.speckle_type != \"Objects.Organization.Collection\"\n",
    "    ],\n",
    "    collectionType=\"Unchanged Objects\",\n",
    ")\n",
    "changed_to = Collection(\n",
    "    name=\"Changed To\",\n",
    "    elements=[\n",
    "        o\n",
    "        for o in diff[\"changed_to\"]\n",
    "        if o.speckle_type != \"Objects.Organization.Collection\"\n",
    "    ],\n",
    "    collectionType=\"Changed Objects\",\n",
    ")\n",
    "changed_from = Collection(\n",
    "    name=\"Changed From\",\n",
    "    elements=[\n",
    "        o\n",
    "        for o in diff[\"changed_from\"]\n",
    "        if o.speckle_type != \"Objects.Organization.Collection\"\n",
    "    ],\n",
    "    collectionType=\"Changed Objects\",\n",
    ")\n",
    "added = Collection(\n",
    "    name=\"Added\",\n",
    "    elements=[\n",
    "        o for o in diff[\"added\"] if o.speckle_type != \"Objects.Organization.Collection\"\n",
    "    ],\n",
    "    collectionType=\"Added Objects\",\n",
    ")\n",
    "removed = Collection(\n",
    "    name=\"Removed\",\n",
    "    elements=[\n",
    "        o\n",
    "        for o in diff[\"removed\"]\n",
    "        if o.speckle_type != \"Objects.Organization.Collection\"\n",
    "    ],\n",
    "    collectionType=\"Removed Objects\",\n",
    ")\n",
    "\n",
    "diff_result[\"@unchanged\"] = unchanged\n",
    "diff_result[\"@changed_to\"] = changed_to\n",
    "diff_result[\"@changed_from\"] = changed_from\n",
    "diff_result[\"@added\"] = added\n",
    "diff_result[\"@removed\"] = removed\n",
    "\n",
    "obj_id = operations.send(base=diff_result, transports=[transport])\n",
    "commit_id = client.commit.create(\n",
    "    stream_id=transport.stream_id,\n",
    "    object_id=obj_id,\n",
    "    message=\"Diff!\",\n",
    "    branch_name=\"diffs\",\n",
    ")"
   ]
  },
  {
   "attachments": {},
   "cell_type": "markdown",
   "metadata": {},
   "source": [
    "With those three objects we can now start to compare what has changed.\n",
    "\n",
    "With just the the added and removed objects we can start to show which are the same objects represented by a different hash.\n",
    "\n",
    "The basic example will examine the `applicationIds` property* of the Speckle objects and compare the values of the two commits. If the values are found in both added and removed then the object will be added to the `changed` list. If the values are found in the added list only, then the object will be added to the `added` list. If the values are found in the removed list only, then the object will be added to the `removed` list.\n",
    "\n",
    "\n",
    "\\* *Not all software produces reliable applicationIds, so this is not a foolproof method. It is a good starting point, but you may need to use other properties to determine if two objects are the same.*"
   ]
  },
  {
   "attachments": {},
   "cell_type": "markdown",
   "metadata": {},
   "source": [
    "#### Just a few additional notes:\n",
    "\n",
    "This is a simplified version of the diff process that might not work for every scenario. For example, if the model has been manipulated in such a way that the `applicationId` of an object changes (e.g., an object was deleted and a new one was created in its place), this will be detected as a removed and added object, not a modified one.\n",
    "\n",
    "The diff operation can be quite resource intensive depending on the size of the commits. It's generally a good idea to limit the scope of the diff to the parts of the model you're interested in, if possible.\n",
    "\n",
    "Lastly, it's important to mention that the diff operation is performed locally on your machine using the data fetched from the server. This means that your machine needs to have sufficient resources to perform this operation, especially for large models."
   ]
  },
  {
   "attachments": {},
   "cell_type": "markdown",
   "metadata": {},
   "source": [
    "### Next Time: Automation\n",
    "\n",
    "In the next tutorial, we will discuss how to automate the comparison process using the Speckle SDKs. This will demonstrate running analysis in response to change as indicated by new commits to a stream.\n",
    "\n",
    "### Additional Resources\n",
    "\n",
    "- [Speckle Python SDK](https://speckle.guide/dev/python.html)\n",
    "- [Speckle API](https://speckle.guide/dev/api.html)\n"
   ]
  }
 ],
 "metadata": {
  "kernelspec": {
   "display_name": ".venv",
   "language": "python",
   "name": "python3"
  },
  "language_info": {
   "codemirror_mode": {
    "name": "ipython",
    "version": 3
   },
   "file_extension": ".py",
   "mimetype": "text/x-python",
   "name": "python",
   "nbconvert_exporter": "python",
   "pygments_lexer": "ipython3",
   "version": "3.8.10"
  },
  "orig_nbformat": 4
 },
 "nbformat": 4,
 "nbformat_minor": 2
}
