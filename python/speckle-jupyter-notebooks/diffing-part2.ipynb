{
 "cells": [
  {
   "attachments": {},
   "cell_type": "markdown",
   "metadata": {},
   "source": [
    "# Version diffing - Part 2: Automation\n",
    "\n",
    "In part 1, I introduced programmatic Version diffing of Speckle data. In this part I will show how this simple example can be deployed to respond to new commits on a branch. This uses the Speckle webhook functionality.\n",
    "\n",
    "In the example of Rhino models being incrementally amended and Versions committed to Speckle, the comparison being between the latest and the immediately previous Version. In a webhook scenario, the comparison is between the latest Version and the Version that was current when the webhook was triggered. This is because the webhook is created against a specific commit, and the webhook is triggered when a new commit is made.\n",
    "\n",
    "**NB:**\n",
    "A different version to this could be that any new commit will trigger the automation which will ignore which commit was made and always take the latest and the previous. Whcih option you prefer will depend on how frequently you are making commits. If you are making commits frequently, then you may potentially produce the same diffing result twice. When dealing with events based on large models, this may be undesirable."
   ]
  },
  {
   "attachments": {},
   "cell_type": "markdown",
   "metadata": {},
   "source": [
    "Recapping the basic functionality:"
   ]
  },
  {
   "cell_type": "code",
   "execution_count": 21,
   "metadata": {},
   "outputs": [],
   "source": [
    "%%capture\n",
    "%pip install specklepy==2.14.0\n",
    "\n",
    "# dotenv is a library that allows you to load environment variables from a .env file\n",
    "%pip update python-dotenv\n",
    "%reload_ext dotenv\n",
    "%dotenv"
   ]
  },
  {
   "cell_type": "code",
   "execution_count": 22,
   "metadata": {},
   "outputs": [],
   "source": [
    "# boilerplate user credentials and server\n",
    "\n",
    "import os\n",
    "HOST_SERVER = os.getenv('HOST_SERVER')\n",
    "ACCESS_TOKEN = os.getenv('ACCESS_TOKEN')"
   ]
  },
  {
   "cell_type": "code",
   "execution_count": 23,
   "metadata": {},
   "outputs": [],
   "source": [
    "from specklepy.api.client import SpeckleClient\n",
    "\n",
    "client = SpeckleClient(host=HOST_SERVER)  # or whatever your host is\n",
    "client.authenticate_with_token(ACCESS_TOKEN)  # or whatever your token is"
   ]
  },
  {
   "cell_type": "code",
   "execution_count": 24,
   "metadata": {},
   "outputs": [],
   "source": [
    "stream_id = \"20e76a799c\"  # or whatever your stream id is\n",
    "\n",
    "from specklepy.transports.server import ServerTransport\n",
    "from specklepy.api.wrapper import StreamWrapper\n",
    "\n",
    "transport = ServerTransport(client=client, stream_id=stream_id)\n",
    "\n",
    "stream = client.stream.get(stream_id)"
   ]
  },
  {
   "cell_type": "code",
   "execution_count": 25,
   "metadata": {},
   "outputs": [],
   "source": [
    "commits = client.commit.list(stream_id=stream_id, limit=2)\n",
    "\n",
    "from specklepy.api import operations\n",
    "\n",
    "# get obj id from latest commit\n",
    "latest = commits[0].referencedObject\n",
    "previous = commits[1].referencedObject\n",
    "\n",
    "# receive objects from speckle\n",
    "latest_data = operations.receive(obj_id=latest, remote_transport=transport)\n",
    "previous_data = operations.receive(obj_id=previous, remote_transport=transport)"
   ]
  },
  {
   "attachments": {},
   "cell_type": "markdown",
   "metadata": {},
   "source": [
    "But wait! The `commit.list` is getting us the last two commits. But in Part 1 of this tutorial we made a \"Diff!\" commit."
   ]
  },
  {
   "cell_type": "code",
   "execution_count": 26,
   "metadata": {},
   "outputs": [
    {
     "data": {
      "text/plain": [
       "[Commit( id: b6537cf855, message: Diff!, referencedObject: 698ef89bde18ec88296164b0e267ff93, authorName: Jonathon Broughton, branchName: diffs, createdAt: 2023-05-08 19:22:59.188000+00:00 ),\n",
       " Commit( id: c13e9777b1, message: Diff!, referencedObject: 698ef89bde18ec88296164b0e267ff93, authorName: Jonathon Broughton, branchName: diffs, createdAt: 2023-05-08 19:20:06.272000+00:00 )]"
      ]
     },
     "execution_count": 26,
     "metadata": {},
     "output_type": "execute_result"
    }
   ],
   "source": [
    "commits"
   ]
  },
  {
   "attachments": {},
   "cell_type": "markdown",
   "metadata": {},
   "source": [
    "\n",
    "Sensibly, however, the Diff commit was made on a separate Model branch. This is one of the advantages of using branches in general, partitioning versions for later recall.\n",
    "\n",
    "To query a specific branch for commits, we use a different part of the Client API:"
   ]
  },
  {
   "cell_type": "code",
   "execution_count": 27,
   "metadata": {},
   "outputs": [
    {
     "data": {
      "text/plain": [
       "[Commit( id: 1ebb510278, message: Second Commit, referencedObject: e44034f90b817573270cc3ec2534c74f, authorName: Jonathon Broughton, branchName: main, createdAt: 2023-04-17 21:57:05.460000+00:00 ),\n",
       " Commit( id: 2bf8b491ce, message: First Commit, referencedObject: 9e18b762dd52788a457de6a7b961d428, authorName: Jonathon Broughton, branchName: main, createdAt: 2023-04-17 21:55:50.244000+00:00 )]"
      ]
     },
     "execution_count": 27,
     "metadata": {},
     "output_type": "execute_result"
    }
   ],
   "source": [
    "# Add the branch name as a query filter,\n",
    "# limit changes to commits_limit for this call.\n",
    "main_branch_commits = client.branch.get(\n",
    "    stream_id=stream_id, name=\"main\", commits_limit=2\n",
    ")\n",
    "\n",
    "main_branch_commits.commits.items"
   ]
  },
  {
   "attachments": {},
   "cell_type": "markdown",
   "metadata": {},
   "source": [
    "There's our two original commits.\n",
    "\n",
    "But we need to go further. If we will be responding to a commit event, we shall want to request that specific commit and the immediately preceeding one.\n",
    "\n",
    "We can inspect the properties of the webhook to determine how to do that."
   ]
  },
  {
   "attachments": {},
   "cell_type": "markdown",
   "metadata": {},
   "source": [
    "## Webhooks\n",
    "\n",
    "We write about Speckle Webhooks in the docs, so I won't go into a great detail here except to show what would be the setup in this case."
   ]
  },
  {
   "attachments": {},
   "cell_type": "markdown",
   "metadata": {},
   "source": [
    "The webhook setup: url, description(optional), secret(optional) and events.\n",
    "\n",
    "![Creating a webhook for new commits](../../assets/webhook-create.png \"Creating a webhook for new commits\")"
   ]
  },
  {
   "attachments": {},
   "cell_type": "markdown",
   "metadata": {},
   "source": [
    "and the resultant payload from a new commit being added:\n",
    "\n",
    "```\n",
    "{\n",
    "  \"payload\": {\n",
    "    ...\n",
    "    \"event\": {\n",
    "      \"event_name\": \"commit_create\",\n",
    "      \"data\": {\n",
    "          \"id\": \"1ebb510278\",\n",
    "          \"commit\": {\n",
    "            \"message\": \"Second Commit\",\n",
    "            \"objectId\": \"e44034f90b817573270cc3ec2534c74f\",\n",
    "            \"sourceApplication\": \"Rhino7\",\n",
    "            \"branchName\": \"main\",\n",
    "            \"authorName\": \"Jonathon\",\n",
    "          }\n",
    "      }\n",
    "    },\n",
    "    \"server\": {\n",
    "      ...\n",
    "    },\n",
    "    \"stream\": {\n",
    "      \"id\": \"20e76a799c\",\n",
    "      \"name\": \"Diffing Demo\",\n",
    "      \"createdAt\": \"2023-04-16T17:17:05.058Z\",\n",
    "      ...\n",
    "    },\n",
    "    \"user\": {\n",
    "      ...\n",
    "      \"name\": \"Jonathon\",\n",
    "      ...\n",
    "      },\n",
    "    \"webhook\": {\n",
    "      \"id\": \"a77eb6c427\",\n",
    "      \"streamId\": \"20e76a799c\",\n",
    "      \"url\": \"https://your.code/endpoint\",\n",
    "      \"triggers\": [\n",
    "        \"commit_create\"\n",
    "      ]\n",
    "    }\n",
    "  }\n",
    "}\n",
    "```"
   ]
  },
  {
   "attachments": {},
   "cell_type": "markdown",
   "metadata": {},
   "source": [
    "Critical parts of this worth noting are the `event_name` and the `data` object. The `event_name` is the event that triggered the webhook. In this case, it is `commit_create`. The `data` object contains the `commit` object which contains the `id` of the commit that was created.\n"
   ]
  },
  {
   "cell_type": "code",
   "execution_count": 28,
   "metadata": {},
   "outputs": [],
   "source": [
    "%%capture\n",
    "\n",
    "%pip install functions_framework"
   ]
  },
  {
   "attachments": {},
   "cell_type": "markdown",
   "metadata": {},
   "source": [
    "The flatten function we can reuse from before."
   ]
  },
  {
   "cell_type": "code",
   "execution_count": 29,
   "metadata": {},
   "outputs": [],
   "source": [
    "# Flatten the objects into a list of objects\n",
    "from collections.abc import Iterable, Mapping\n",
    "from specklepy.objects import Base\n",
    "\n",
    "\n",
    "def flatten(obj, visited=None):\n",
    "    \n",
    "    # Avoiding pesky circular references\n",
    "    if visited is None:\n",
    "        visited = set()\n",
    "\n",
    "    if obj in visited:\n",
    "        return\n",
    "\n",
    "    visited.add(obj)\n",
    "\n",
    "    # Define a logic for what objects to include in the diff\n",
    "    should_include = any(\n",
    "        [\n",
    "            hasattr(obj, \"displayValue\"),\n",
    "            hasattr(obj, \"speckle_type\")\n",
    "            and obj.speckle_type == \"Objects.Organization.Collection\",\n",
    "            hasattr(obj, \"displayStyle\"),\n",
    "        ]\n",
    "    )\n",
    "\n",
    "    if should_include:\n",
    "        yield obj\n",
    "\n",
    "    props = obj.__dict__\n",
    "\n",
    "    # traverse the object's nested properties - which may include yieldable objects\n",
    "    for prop in props:\n",
    "        value = getattr(obj, prop)\n",
    "\n",
    "        if value is None:\n",
    "            continue\n",
    "\n",
    "        if isinstance(value, Base):\n",
    "            yield from flatten(value, visited)\n",
    "\n",
    "        elif isinstance(value, Mapping):\n",
    "            for dict_value in value.values():\n",
    "                if isinstance(dict_value, Base):\n",
    "                    yield from flatten(dict_value, visited)\n",
    "\n",
    "        elif isinstance(value, Iterable):\n",
    "            for list_value in value:\n",
    "                if isinstance(list_value, Base):\n",
    "                    yield from flatten(list_value, visited)\n"
   ]
  },
  {
   "attachments": {},
   "cell_type": "markdown",
   "metadata": {},
   "source": [
    "And the comparison function:"
   ]
  },
  {
   "cell_type": "code",
   "execution_count": 30,
   "metadata": {},
   "outputs": [],
   "source": [
    "# Compare two Speckle commits and populate a List of tuples\n",
    "from specklepy.objects.base import Base\n",
    "from typing import List, Tuple\n",
    "\n",
    "# Compare two Speckle commits and populate a List of tuples with the following:\n",
    "def compare_speckle_commits(\n",
    "    commit1_objects: List[Base], commit2_objects: List[Base]\n",
    ") -> Tuple[List[Tuple[Base, Base]], List[Tuple[None, Base]], List[Tuple[Base, None]]]:\n",
    "    commit1_dict = {obj.id: obj for obj in commit1_objects[1:]}\n",
    "    commit2_dict = {obj.id: obj for obj in commit2_objects[1:]}\n",
    "\n",
    "    # Find unchanged objects\n",
    "    for obj_id in commit1_dict.keys():\n",
    "        if obj_id in commit2_dict.keys():\n",
    "            yield (commit1_dict[obj_id], commit2_dict[obj_id]) # old, new\n",
    "\n",
    "    # Find changed objects\n",
    "    for obj_id, obj in commit1_dict.items():\n",
    "        if obj_id not in commit2_dict.keys() and obj.applicationId in [\n",
    "            x.applicationId for x in commit2_dict.values()\n",
    "        ]:\n",
    "            yield (\n",
    "                obj, # old object\n",
    "                [ x for x in commit2_dict.values()\n",
    "                    if x.applicationId == obj.applicationId\n",
    "                ][0], # new changed object\n",
    "            )\n",
    "\n",
    "    # Find added objects\n",
    "    for obj_id, obj in commit2_dict.items():\n",
    "        if obj_id not in commit1_dict.keys() and obj.applicationId not in [\n",
    "            x.applicationId for x in commit1_dict.values()\n",
    "        ]:\n",
    "            yield (None, obj) # old, new\n",
    "\n",
    "    # Find removed objects\n",
    "    for obj_id, obj in commit1_dict.items():\n",
    "        if obj_id not in commit2_dict.keys() and obj.applicationId not in [\n",
    "            x.applicationId for x in commit2_dict.values()\n",
    "        ]:\n",
    "            yield (obj, None) # old, new\n"
   ]
  },
  {
   "attachments": {},
   "cell_type": "markdown",
   "metadata": {},
   "source": [
    "To vary the example to a different use-case I have amended the `store_speckle_commit_diff` function to only report changed elements grouped by their applicationId. This could be useful if you are updating a separate database. In this case the two things that are worth noting would be `DELETE` representing an element that was removed, `UPDATE` representing an element that was changed and `INSERT` representing an element that was added."
   ]
  },
  {
   "cell_type": "code",
   "execution_count": 31,
   "metadata": {},
   "outputs": [],
   "source": [
    "def report_speckle_commit_diff(commit1_objects, commit2_objects):\n",
    "    diff_report = []\n",
    "\n",
    "    for obj in compare_speckle_commits(commit1_objects, commit2_objects):\n",
    "        object_report = {\"applicationId\": obj[1].applicationId, \"data\": obj[1].to_dict()}\n",
    "\n",
    "        if getattr(obj[0], \"id\", None) == getattr(obj[1], \"id\", None):\n",
    "            continue  # Skip unchanged elements\n",
    "\n",
    "        if obj[0] is not None and obj[1] is not None:\n",
    "            object_report[\"verb\"] = \"UPDATE\"\n",
    "        elif obj[0] is None and obj[1] is not None:\n",
    "            object_report[\"verb\"] = \"INSERT\"\n",
    "        elif obj[0] is not None and obj[1] is None:\n",
    "            object_report[\"verb\"] = \"DELETE\"\n",
    "\n",
    "        diff_report.append(object_report)\n",
    "\n",
    "    return diff_report"
   ]
  },
  {
   "attachments": {},
   "cell_type": "markdown",
   "metadata": {},
   "source": [
    "That would probably suffice for any follow-up actions you might want to take using those database instructions. But for storing this report in Speckle itself for posterity, we can convert the report into a Speckle object and commit it to the stream."
   ]
  },
  {
   "cell_type": "code",
   "execution_count": 32,
   "metadata": {},
   "outputs": [],
   "source": [
    "# convert the diff report to a speckle base object\n",
    "\n",
    "from specklepy.objects import Base\n",
    "from specklepy.objects.other import Collection\n",
    "\n",
    "def diff_report_to_speckle_base(diff_report):\n",
    "    commit = Collection(collectionType=\"diff_report\", name=\"diff report\", elements=[])\n",
    "\n",
    "    deleted = Collection(collectionType=\"deleted objects\", name=\"deleted objects\", elements=[])\n",
    "    updated = Collection(collectionType=\"updated objects\", name=\"updated objects\", elements=[])\n",
    "    inserted = Collection(collectionType=\"inserted objects\", name=\"inserted objects\", elements=[])\n",
    "\n",
    "    for obj in diff_report:\n",
    "        target_collection = None\n",
    "        if obj[\"verb\"] == \"DELETE\":\n",
    "            target_collection = deleted\n",
    "        elif obj[\"verb\"] == \"UPDATE\":\n",
    "            target_collection = updated\n",
    "        elif obj[\"verb\"] == \"INSERT\":\n",
    "            target_collection = inserted\n",
    "        \n",
    "        target_collection.elements.append(Base.from_dict(obj[\"data\"]))\n",
    "\n",
    "    commit.elements.extend([deleted, updated, inserted])\n",
    "\n",
    "    return commit"
   ]
  },
  {
   "attachments": {},
   "cell_type": "markdown",
   "metadata": {},
   "source": [
    "For this example I'll deploy this webhook handler as a Google Cloud Function (other methods to do this exist) so for that we'll import the `functions_framwork` package. And load in the secrets from environment variables."
   ]
  },
  {
   "cell_type": "code",
   "execution_count": 33,
   "metadata": {},
   "outputs": [],
   "source": [
    "#GCP SDK for cloud functions\n",
    "import functions_framework\n",
    "import os\n",
    "\n",
    "GCP_API_USER = os.getenv('GCP_API_USER')\n",
    "GCP_API_KEY = os.getenv('GCP_API_KEY')\n",
    "GCP_PROJEC = os.getenv('GCP_PROJECT')"
   ]
  },
  {
   "attachments": {},
   "cell_type": "markdown",
   "metadata": {},
   "source": [
    "`@functions_framework.http` is the function decorator that will allow us to deploy this as a Google Cloud Function that is triggered by an HTTP request."
   ]
  },
  {
   "attachments": {},
   "cell_type": "markdown",
   "metadata": {},
   "source": [
    "**NB**\n",
    "To be defensive, we should check that the event that triggered the webhook is the one we are expecting. In this case, we are expecting `commit_create`. In addition we want to limit the webhook to only respond to commits on the `main` branch. This is because we are only interested in commits to the main branch. We can do this by checking the `branchName` property of the `commit` object. The handler could be protected further by using the webhook `secret` to sign the payload and verify the signature. This is not covered here. But this is a good idea if you are deploying a webhook handler to a public endpoint. But in particular can be used to distinguish between different workloads that are being triggered by the same webhook event to different endpoints.\n",
    "\n",
    "My webhook handler looks like this:"
   ]
  },
  {
   "cell_type": "code",
   "execution_count": 34,
   "metadata": {},
   "outputs": [],
   "source": [
    "from specklepy.api import operations\n",
    "\n",
    "@functions_framework.http\n",
    "def diffing_handler(request):\n",
    "    # Retrieve payload from the request\n",
    "    payload = request.get_json()\n",
    "\n",
    "    # Check if the event is a commit creation event\n",
    "    event = payload.get('event')\n",
    "    if not event or event.get('event_name') != 'commit_create':\n",
    "        return 'Not a commit created event', 204\n",
    "\n",
    "    # Retrieve branch name from the payload\n",
    "    branch_name = payload['data']['commit'].get('branch_name')\n",
    "    if not branch_name or branch_name != 'main':\n",
    "        return 'Commit not on the main branch', 400\n",
    "\n",
    "    # Retrieve stream ID and commit ID from the payload\n",
    "    stream_id = payload['stream']['id']\n",
    "    commit_id = payload['data']['id']\n",
    "\n",
    "    # Get a list of recent commits from the main branch\n",
    "    commits = client.branch.get(branch_name, stream_id=stream_id,\n",
    "                                commits_limit=10).commits.items\n",
    "\n",
    "    # Find the consecutive commits that match the commit ID\n",
    "    consecutive_commits = [commits[i:i+2] for i in range(len(commits)-1)\n",
    "                           if commits[i].id == commit_id]\n",
    "    if consecutive_commits:\n",
    "        latest, previous = consecutive_commits[0]\n",
    "    else:\n",
    "        return 'Commit not found', 404\n",
    "\n",
    "    # Get the referenced objects from the consecutive commits\n",
    "    latest = commits[0].referencedObject\n",
    "    previous = commits[1].referencedObject\n",
    "\n",
    "    # Receive the object data from Speckle\n",
    "    latest_data = operations.receive(obj_id=latest,\n",
    "                                     remote_transport=transport)\n",
    "    previous_data = operations.receive(obj_id=previous,\n",
    "                                       remote_transport=transport)\n",
    "\n",
    "    # Flatten the object data lists\n",
    "    latest_objects = list(flatten(latest_data))\n",
    "    previous_objects = list(flatten(previous_data))\n",
    "\n",
    "    # Generate the diff report between the previous and latest objects\n",
    "    diff_report = report_speckle_commit_diff(previous_objects,\n",
    "                                             latest_objects)\n",
    "\n",
    "    # Convert the diff report to a Speckle base object\n",
    "    diff_commit = diff_report_to_speckle_base(diff_report)\n",
    "\n",
    "    # Send the diff report object to the Speckle server\n",
    "    obj_id = operations.send(base=diff_commit, transports=[transport])\n",
    "\n",
    "    # Create a new commit with the diff report\n",
    "    diff_commit_id = client.commit.create(\n",
    "        stream_id=stream_id,\n",
    "        branch_name=\"diffs\",\n",
    "        message=f\"diff report for commit {commit_id}\",\n",
    "        source_application=\"diffing\",\n",
    "        object_id=obj_id,\n",
    "    )\n",
    "\n",
    "    # Return success response with the diff commit ID\n",
    "    return f\"diff report created with id {diff_commit_id}\", 200\n"
   ]
  },
  {
   "attachments": {},
   "cell_type": "markdown",
   "metadata": {},
   "source": [
    "In an ideal world we'd separate the webhook handler from the deployment code, but for the sake of simplicity I'll leave it here. Separating the two would allow us to deploy the webhook handler to other platforms and also to allow for testing of the webhook handler without having to deploy it."
   ]
  },
  {
   "attachments": {},
   "cell_type": "markdown",
   "metadata": {},
   "source": [
    "I won't go into detail about how to deploy a Google Cloud Function, but the code is available in the GCP docs. The important thing to note is that the function is deployed to a specific endpoint. In this case, it is `https://{{CLOUD_REGION_GCP_PROJECT}}.cloudfunctions.net/diffing_handler`. This is the endpoint that we will use when creating the webhook."
   ]
  }
 ],
 "metadata": {
  "kernelspec": {
   "display_name": ".venv",
   "language": "python",
   "name": "python3"
  },
  "language_info": {
   "codemirror_mode": {
    "name": "ipython",
    "version": 3
   },
   "file_extension": ".py",
   "mimetype": "text/x-python",
   "name": "python",
   "nbconvert_exporter": "python",
   "pygments_lexer": "ipython3",
   "version": "3.8.10"
  },
  "orig_nbformat": 4
 },
 "nbformat": 4,
 "nbformat_minor": 2
}
