{
 "cells": [
  {
   "attachments": {},
   "cell_type": "markdown",
   "metadata": {},
   "source": [
    "# Streams and Teams\n",
    "\n",
    "The purpose of this notebook is to take a signup sheet of people who want to join a 5 member team, select a team name and then create a Speckle stream for each team and invite each team member to their respective stream using the specklepy SDK.\n",
    "\n",
    "## Setup\n",
    "\n",
    "### Install the specklepy SDK"
   ]
  },
  {
   "cell_type": "code",
   "execution_count": 3,
   "metadata": {},
   "outputs": [],
   "source": [
    "%%capture\n",
    "# capture turns off the output for this cell which would just be the pip install log 🤫\n",
    "%pip install specklepy\n",
    "%pip install python-dotenv\n",
    "%pip install gspread\n",
    "\n",
    "%reload_ext dotenv\n",
    "%dotenv"
   ]
  },
  {
   "attachments": {},
   "cell_type": "markdown",
   "metadata": {},
   "source": [
    "Get previously stored credentials from the .env file"
   ]
  },
  {
   "cell_type": "code",
   "execution_count": 4,
   "metadata": {},
   "outputs": [],
   "source": [
    "import os\n",
    "HOST_SERVER = os.getenv('HOST_SERVER')\n",
    "ACCESS_TOKEN = os.getenv('ACCESS_TOKEN')"
   ]
  },
  {
   "attachments": {},
   "cell_type": "markdown",
   "metadata": {},
   "source": [
    "We will use the Google Sheets API to read the signup sheet.\n",
    "\n",
    "### Import the Google Sheets API"
   ]
  },
  {
   "cell_type": "code",
   "execution_count": 3,
   "metadata": {},
   "outputs": [],
   "source": [
    "import gspread"
   ]
  },
  {
   "attachments": {},
   "cell_type": "markdown",
   "metadata": {},
   "source": [
    "Define the name of the sheet and the range of cells containing the team data:"
   ]
  },
  {
   "cell_type": "code",
   "execution_count": 12,
   "metadata": {},
   "outputs": [],
   "source": [
    "sheet_name = \"Team Signup Sheet\"\n",
    "worksheet_name = \"Teams\"\n",
    "cell_range = \"A2:E21\""
   ]
  },
  {
   "attachments": {},
   "cell_type": "markdown",
   "metadata": {},
   "source": [
    "We need to give the service account details to gspread, which can be done using the service_account method."
   ]
  },
  {
   "cell_type": "code",
   "execution_count": 44,
   "metadata": {},
   "outputs": [],
   "source": [
    "service_account_client = gspread.service_account(filename=\"speckle-examples-jupyter-8cb6c49b0d7c.json\")"
   ]
  },
  {
   "attachments": {},
   "cell_type": "markdown",
   "metadata": {},
   "source": [
    "The path to the json file that contains the service credentials is passed to the filename parameter. If the file is in the same working directory as the notebook, you can just write the name of the file.\n",
    "\n",
    "The `service_account_client` is a gspread client, which can be used for connecting to the sheets by using the open method and the sheet name."
   ]
  },
  {
   "cell_type": "code",
   "execution_count": 45,
   "metadata": {},
   "outputs": [],
   "source": [
    "sheet = service_account_client.open(sheet_name)"
   ]
  },
  {
   "attachments": {},
   "cell_type": "markdown",
   "metadata": {},
   "source": [
    "A Google sheet document might have multiple pages (i.e. worksheets) so we also need to specify the page name before getting the data. Ours has one page that is called `Teams`. We'll read the data from the range defined above."
   ]
  },
  {
   "cell_type": "code",
   "execution_count": 48,
   "metadata": {},
   "outputs": [],
   "source": [
    "work_sheet = sheet.worksheet(worksheet_name)\n",
    "\n",
    "team_data = work_sheet.get_all_records() "
   ]
  },
  {
   "attachments": {},
   "cell_type": "markdown",
   "metadata": {},
   "source": [
    "We can loop the `team_data` directly. Each row is a dictionary with the keys being the column names and the values being the values in the cells.\n",
    "\n",
    "But first we'll need to import and authenticate the `specklepy` SDK."
   ]
  },
  {
   "cell_type": "code",
   "execution_count": 5,
   "metadata": {},
   "outputs": [
    {
     "data": {
      "text/plain": [
       "SpeckleClient( server: https://speckle.xyz, authenticated: True )"
      ]
     },
     "execution_count": 5,
     "metadata": {},
     "output_type": "execute_result"
    }
   ],
   "source": [
    "from specklepy.api.client import SpeckleClient\n",
    "\n",
    "client = SpeckleClient(host=HOST_SERVER)  # or whatever your host is\n",
    "client.authenticate_with_token(ACCESS_TOKEN)  # or whatever your token is\n",
    "\n",
    "client"
   ]
  },
  {
   "attachments": {},
   "cell_type": "markdown",
   "metadata": {},
   "source": [
    "Loop through the teams and create streams for each team if they don't already exist."
   ]
  },
  {
   "cell_type": "code",
   "execution_count": 21,
   "metadata": {},
   "outputs": [],
   "source": [
    "existing_streams = client.stream.list(stream_limit=100)\n",
    "\n",
    "stream = existing_streams[0]\n",
    "\n",
    "for n in range(1, 115):\n",
    "    formatted_number = f\"{n:02}\"\n",
    "    client.branch.create(stream.id, name=f\"Team {formatted_number[0]}/{formatted_number[1:]}\")\n"
   ]
  },
  {
   "attachments": {},
   "cell_type": "markdown",
   "metadata": {},
   "source": [
    "The next code block will delete existing branches. Be sure you want to do this before running it."
   ]
  },
  {
   "cell_type": "code",
   "execution_count": 18,
   "metadata": {},
   "outputs": [],
   "source": [
    "branches = client.branch.list(stream.id, branches_limit=100)\n",
    "\n",
    "for n in range(0, len(branches)):\n",
    "    client.branch.delete(stream.id,branches[n].id)"
   ]
  },
  {
   "attachments": {},
   "cell_type": "markdown",
   "metadata": {},
   "source": [
    "Now, for this example for all the teams, we'll create a stream and invite the team members to it."
   ]
  },
  {
   "cell_type": "code",
   "execution_count": null,
   "metadata": {},
   "outputs": [],
   "source": [
    "\n",
    "for team in team_data:\n",
    "    # Extract the team information\n",
    "    team_number = team[\"Team #\"]\n",
    "    team_name = team[\"Team Name\"]\n",
    "    team_members = [email.strip() for email in team[\"Members\"].split(\",\")]\n",
    "\n",
    "    # Construct the stream name\n",
    "    stream_name = f\"Team {team_number} - {team_name}\"\n",
    "\n",
    "    # Check if the stream already exists\n",
    "    target_stream = None\n",
    "    for stream in existing_streams:\n",
    "        if stream.name == stream_name:\n",
    "            target_stream = stream\n",
    "            break\n",
    "\n",
    "    if target_stream:\n",
    "        print(f\"Stream '{stream_name}' already exists with ID '{target_stream.id}'.\")\n",
    "    else:\n",
    "        # Create the stream\n",
    "        stream_id = client.stream.create(name=stream_name, description=\"Team stream for the special project.\", is_public=False)\n",
    "        print(f\"Stream '{stream_name}' created with ID '{stream_id}'.\")\n",
    "        target_stream = client.stream.get(stream_id)\n",
    "\n",
    "        # Add the stream to the list of existing streams\n",
    "        existing_streams.append(target_stream)\n",
    "\n",
    "    # Invite the team members to the stream\n",
    "    message = f\"\"\"\n",
    "{client.user.name} has invited you to join the stream '{target_stream.name}' on Speckle. \n",
    "\n",
    "You can view the stream here: {HOST_SERVER}/streams/{target_stream.id}\n",
    "Please accept the invitation by clicking on the link in the email.\n",
    "\"\"\"\n",
    "    for member in team_members:\n",
    "        invited = client.stream.invite(stream_id=target_stream.id, email=member, message=message)  \n",
    "        print(f\"{member} invited {invited}\")"
   ]
  },
  {
   "attachments": {},
   "cell_type": "markdown",
   "metadata": {},
   "source": [
    "These functions all work by the individual, you may need to add a sleep timer to avoid hitting the API rate limit. If you are a server owner you can use the API for batch invite to avoid this."
   ]
  },
  {
   "cell_type": "code",
   "execution_count": null,
   "metadata": {},
   "outputs": [],
   "source": [
    "existing_streams = client.stream.list(stream_limit=100)\n",
    "\n",
    "for team in team_data:\n",
    "    # Extract the team information\n",
    "    team_number = team[\"Team #\"]\n",
    "    team_name = team[\"Team Name\"]\n",
    "    team_members = [email.strip() for email in team[\"Members\"].split(\",\")]\n",
    "\n",
    "    # Construct the stream name\n",
    "    stream_name = f\"Team {team_number} - {team_name}\"\n",
    "\n",
    "    # Check if the stream already exists\n",
    "    target_stream = None\n",
    "    for stream in existing_streams:\n",
    "        if stream.name == stream_name:\n",
    "            target_stream = stream\n",
    "            break\n",
    "\n",
    "    if target_stream:\n",
    "        print(f\"Stream '{stream_name}' already exists with ID '{target_stream.id}'.\")\n",
    "    else:\n",
    "        # Create the stream\n",
    "        stream_id = client.stream.create(name=stream_name, description=\"Team stream for the special project.\", is_public=False)\n",
    "        print(f\"Stream '{stream_name}' created with ID '{stream_id}'.\")\n",
    "        target_stream = client.stream.get(stream_id)\n",
    "\n",
    "        # Add the stream to the list of existing streams\n",
    "        existing_streams.append(target_stream)\n",
    "\n",
    "    # Create the GraphQL query to use in the Explorer\n",
    "    message = f\"\"\"\n",
    "{client.user.name} has invited you to join the stream '{target_stream.name}' on Speckle. \n",
    "\n",
    "You can view the stream here: {HOST_SERVER}/streams/{target_stream.id}\n",
    "Please accept the invitation by clicking on the link in the email.\n",
    "\"\"\"\n",
    "    for member in team_members:\n",
    "        invited = client.stream.invite(stream_id=target_stream.id, email=member, message=message)  \n",
    "        print(f\"{member} invited {invited}\")"
   ]
  }
 ],
 "metadata": {
  "kernelspec": {
   "display_name": ".venv",
   "language": "python",
   "name": "python3"
  },
  "language_info": {
   "codemirror_mode": {
    "name": "ipython",
    "version": 3
   },
   "file_extension": ".py",
   "mimetype": "text/x-python",
   "name": "python",
   "nbconvert_exporter": "python",
   "pygments_lexer": "ipython3",
   "version": "3.8.10"
  },
  "orig_nbformat": 4
 },
 "nbformat": 4,
 "nbformat_minor": 2
}
