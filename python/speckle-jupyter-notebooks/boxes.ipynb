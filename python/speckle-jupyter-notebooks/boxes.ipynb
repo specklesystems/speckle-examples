{
 "cells": [
  {
   "cell_type": "code",
   "execution_count": 3,
   "metadata": {},
   "outputs": [],
   "source": [
    "%%capture\n",
    "\n",
    "%pip install specklepy\n",
    "%pip install python-dotenv\n",
    "\n",
    "%reload_ext dotenv\n",
    "%dotenv"
   ]
  },
  {
   "cell_type": "code",
   "execution_count": 4,
   "metadata": {},
   "outputs": [],
   "source": [
    "import os\n",
    "HOST_SERVER = os.getenv('HOST_SERVER')\n",
    "ACCESS_TOKEN = os.getenv('ACCESS_TOKEN')"
   ]
  },
  {
   "cell_type": "code",
   "execution_count": 17,
   "metadata": {},
   "outputs": [],
   "source": [
    "from specklepy.objects.geometry import Point, Base, Box, Plane, Vector\n",
    "from specklepy.objects.primitive import Interval\n",
    "from specklepy.transports.server import ServerTransport\n",
    "from specklepy.api import operations\n",
    "from specklepy.objects.units import Units\n",
    "from specklepy.objects.other import DisplayStyle\n",
    "\n",
    "commit_object = Base()\n",
    "commit_object[\"elements\"] = []\n",
    "\n",
    "point = Point.from_coords(0, 0, 1)\n",
    "\n",
    "box = Box()\n",
    "\n",
    "plane = Plane()\n",
    "plane.origin = point\n",
    "plane.xdir = Vector.from_coords(1,1,0)\n",
    "plane.ydir = Vector.from_coords(-1,1,0)\n",
    "\n",
    "box[\"basePlane\"] = plane\n",
    "\n",
    "xSize = Interval()\n",
    "xSize.start = 16.35\n",
    "xSize.end = 26.35\n",
    "\n",
    "ySize = Interval()\n",
    "ySize.start = 18.3\n",
    "ySize.end = 28.3\n",
    "\n",
    "zSize = Interval()\n",
    "zSize.start = 18.3\n",
    "zSize.end = 28.3\n",
    "\n",
    "box[\"xSize\"] = xSize\n",
    "box[\"ySize\"] = ySize\n",
    "box[\"zSize\"] = zSize\n",
    "\n",
    "style = DisplayStyle()\n",
    "style.color = 0\n",
    "style._units = Units.m\n",
    "style.lineweight = 0.25\n",
    "\n",
    "box[\"displayStyle\"] = style\n",
    "\n",
    "\n",
    "commit_object[\"elements\"].append(box)\n",
    "\n",
    "\n",
    "\n",
    "\n",
    "\n",
    "from specklepy.api.client import SpeckleClient\n",
    "\n",
    "client = SpeckleClient(host=HOST_SERVER)  # or whatever your host is\n",
    "client.authenticate_with_token(ACCESS_TOKEN)  # or whatever your token is\n",
    "\n",
    "transport = ServerTransport(client = client, stream_id = \"87a2be92c7\")\n",
    "\n",
    "obj_id = operations.send(base=commit_object , transports=[transport])\n",
    "\n",
    "commit_id = client.commit.create(stream_id = transport.stream_id, object_id = obj_id, message=\"Tiny Boxes!\")"
   ]
  }
 ],
 "metadata": {
  "kernelspec": {
   "display_name": ".venv",
   "language": "python",
   "name": "python3"
  },
  "language_info": {
   "codemirror_mode": {
    "name": "ipython",
    "version": 3
   },
   "file_extension": ".py",
   "mimetype": "text/x-python",
   "name": "python",
   "nbconvert_exporter": "python",
   "pygments_lexer": "ipython3",
   "version": "3.8.10"
  },
  "orig_nbformat": 4
 },
 "nbformat": 4,
 "nbformat_minor": 2
}
