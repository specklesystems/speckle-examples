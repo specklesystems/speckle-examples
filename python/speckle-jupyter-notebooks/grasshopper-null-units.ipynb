{
 "cells": [
  {
   "cell_type": "code",
   "execution_count": 1,
   "metadata": {},
   "outputs": [],
   "source": [
    "%%capture\n",
    "%pip install specklepy\n",
    "\n",
    "# dotenv is a library that allows you to load environment variables from a .env file\n",
    "%pip install python-dotenv\n",
    "%reload_ext dotenv\n",
    "%dotenv"
   ]
  },
  {
   "cell_type": "code",
   "execution_count": 2,
   "metadata": {},
   "outputs": [],
   "source": [
    "# boilerplate user credentials and server\n",
    "\n",
    "import os\n",
    "HOST_SERVER = os.getenv('HOST_SERVER')\n",
    "ACCESS_TOKEN = os.getenv('ACCESS_TOKEN')"
   ]
  },
  {
   "cell_type": "code",
   "execution_count": 3,
   "metadata": {},
   "outputs": [],
   "source": [
    "from specklepy.api.client import SpeckleClient\n",
    "\n",
    "client = SpeckleClient(host=HOST_SERVER)  # or whatever your host is\n",
    "client.authenticate_with_token(ACCESS_TOKEN)  # or whatever your token is"
   ]
  },
  {
   "cell_type": "code",
   "execution_count": 4,
   "metadata": {},
   "outputs": [],
   "source": [
    "stream_id = \"01f76c41dc\"  # or whatever your stream id is\n",
    "\n",
    "from specklepy.transports.server import ServerTransport\n",
    "from specklepy.api.wrapper import StreamWrapper\n",
    "\n",
    "transport = ServerTransport(client=client, stream_id=stream_id)\n",
    "\n",
    "stream = client.stream.get(stream_id)"
   ]
  },
  {
   "cell_type": "code",
   "execution_count": 10,
   "metadata": {},
   "outputs": [
    {
     "data": {
      "text/plain": [
       "'hello world'"
      ]
     },
     "execution_count": 10,
     "metadata": {},
     "output_type": "execute_result"
    }
   ],
   "source": [
    "commits = client.commit.list(stream_id=stream_id, limit=2)\n",
    "\n",
    "from specklepy.api import operations\n",
    "\n",
    "# get obj id from latest commit\n",
    "latest = commits[0].referencedObject\n",
    "\n",
    "# receive objects from speckle\n",
    "latest_data = operations.receive(obj_id=latest, remote_transport=transport)\n",
    "\n",
    "latest_data[\"new_data\"] = \"hello world\"\n",
    "\n",
    "\n"
   ]
  },
  {
   "cell_type": "code",
   "execution_count": 15,
   "metadata": {},
   "outputs": [],
   "source": [
    "# send objects to speckle\n",
    "\n",
    "# create a new commit\n",
    "obj_id = operations.send(base=latest_data, transports=[transport])\n",
    "\n",
    "commit_id = client.commit.create(\n",
    "    stream_id=transport.stream_id,\n",
    "    object_id=obj_id,\n",
    "    message=\"New Data\"\n",
    ")"
   ]
  },
  {
   "cell_type": "code",
   "execution_count": 16,
   "metadata": {},
   "outputs": [],
   "source": [
    "commits = client.commit.list(stream_id=stream_id, limit=2)\n",
    "\n",
    "from specklepy.api import operations\n",
    "\n",
    "# get obj id from latest commit\n",
    "now = commits[0].referencedObject\n",
    "\n",
    "# receive objects from speckle\n",
    "now_data = operations.receive(obj_id=latest, remote_transport=transport)"
   ]
  }
 ],
 "metadata": {
  "kernelspec": {
   "display_name": ".venv",
   "language": "python",
   "name": "python3"
  },
  "language_info": {
   "codemirror_mode": {
    "name": "ipython",
    "version": 3
   },
   "file_extension": ".py",
   "mimetype": "text/x-python",
   "name": "python",
   "nbconvert_exporter": "python",
   "pygments_lexer": "ipython3",
   "version": "3.8.10"
  },
  "orig_nbformat": 4
 },
 "nbformat": 4,
 "nbformat_minor": 2
}
