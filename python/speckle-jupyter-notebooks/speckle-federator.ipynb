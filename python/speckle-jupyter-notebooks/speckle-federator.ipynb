{
 "cells": [
  {
   "attachments": {},
   "cell_type": "markdown",
   "metadata": {},
   "source": [
    "# Speckle Federator\n",
    "\n",
    "The purpose of this notebook is to take 3 commits, join them into a new 4th commit and then use the embedded viewer to benchmark performance relative to overlaying them."
   ]
  },
  {
   "cell_type": "code",
   "execution_count": 1,
   "metadata": {},
   "outputs": [],
   "source": [
    "%%capture\n",
    "# capture turns off the output for this cell which would just be the pip install log 🤫\n",
    "%poetry install specklepy\n",
    "\n",
    "%poetry install python-dotenv\n",
    "\n",
    "%reload_ext dotenv\n",
    "%dotenv"
   ]
  },
  {
   "cell_type": "code",
   "execution_count": 2,
   "metadata": {},
   "outputs": [],
   "source": [
    "import os\n",
    "HOST_SERVER = os.getenv('XYZ_HOST_SERVER')\n",
    "ACCESS_TOKEN = os.getenv('XYZ_ACCESS_TOKEN')"
   ]
  },
  {
   "cell_type": "code",
   "execution_count": 3,
   "metadata": {},
   "outputs": [
    {
     "data": {
      "text/plain": [
       "SpeckleClient( server: https://speckle.xyz, authenticated: True )"
      ]
     },
     "execution_count": 3,
     "metadata": {},
     "output_type": "execute_result"
    }
   ],
   "source": [
    "from specklepy.api.client import SpeckleClient\n",
    "\n",
    "client = SpeckleClient(host=HOST_SERVER)  # or whatever your host is\n",
    "client.authenticate_with_token(ACCESS_TOKEN)  # or whatever your token is\n",
    "\n",
    "client"
   ]
  },
  {
   "cell_type": "code",
   "execution_count": 4,
   "metadata": {},
   "outputs": [],
   "source": [
    "# Define 3 commits in a single stream.add()\n",
    "commits = [\n",
    "    \"https://speckle.xyz/streams/7ce9010d71/commits/27a5df66a0\",  # stadium seating\n",
    "    \"https://speckle.xyz/streams/7ce9010d71/commits/f7ef7f5270\",  # stadium roof\n",
    "    \"https://speckle.xyz/streams/7ce9010d71/commits/f6052eaa16\",  # stadium facade\n",
    "]"
   ]
  },
  {
   "attachments": {},
   "cell_type": "markdown",
   "metadata": {},
   "source": [
    "## Benchmark 1:\n",
    "Generate an overlay URL that combines the 3 commits\n",
    "\n",
    "`\\streams\\{STREAM_ID}\\commits\\{COMMIT_ID1}?overlay={COMMIT_ID2},{COMMIT_ID3}`"
   ]
  },
  {
   "cell_type": "code",
   "execution_count": 5,
   "metadata": {},
   "outputs": [],
   "source": [
    "from specklepy.transports.server import ServerTransport\n",
    "from specklepy.api.wrapper import StreamWrapper\n",
    "\n",
    "wrappers = [StreamWrapper(commit_url) for commit_url in commits]\n",
    "\n",
    "transport = ServerTransport(client=client, stream_id=wrappers[0].stream_id)"
   ]
  },
  {
   "cell_type": "code",
   "execution_count": 6,
   "metadata": {},
   "outputs": [],
   "source": [
    "stream_id = wrappers[0].stream_id\n",
    "\n",
    "commit_ids = [wrapper.commit_id for wrapper in wrappers]\n",
    "\n",
    "transparency = True  # make the background transparent\n",
    "autoload = True  # load the stream on page load\n",
    "hide_controls = False  # hide the viewer tools button\n",
    "hide_sidebar = True  # hide the sidebar\n",
    "hide_selection_info = True  # hide the selection info\n",
    "\n",
    "# url = https://speckle.xyz/embed?stream=ca99defd4b&commit=39009883ba&transparent=true&autoload=true&hidecontrols=true&hidesidebar=true&hideselectioninfo=true\n",
    "embed_url = f\"https://speckle.xyz/embed?stream={stream_id}&commit={commit_ids[0]}&overlay={','.join(commit_ids[1:])}&transparent={transparency}&autoload={autoload}&hidecontrols={hide_controls}&hidesidebar={hide_sidebar}&hideselectioninfo={hide_selection_info}\""
   ]
  },
  {
   "cell_type": "code",
   "execution_count": 7,
   "metadata": {},
   "outputs": [
    {
     "data": {
      "text/html": [
       "\n",
       "        <iframe\n",
       "            width=\"400\"\n",
       "            height=\"300\"\n",
       "            src=\"https://speckle.xyz/embed?stream=7ce9010d71&commit=27a5df66a0&overlay=f7ef7f5270,f6052eaa16&transparent=True&autoload=True&hidecontrols=False&hidesidebar=True&hideselectioninfo=True\"\n",
       "            frameborder=\"0\"\n",
       "            allowfullscreen\n",
       "            \n",
       "        ></iframe>\n",
       "        "
      ],
      "text/plain": [
       "<IPython.lib.display.IFrame at 0x7f70aeaeda90>"
      ]
     },
     "execution_count": 7,
     "metadata": {},
     "output_type": "execute_result"
    }
   ],
   "source": [
    "from IPython.display import IFrame\n",
    "\n",
    "IFrame(embed_url, width=400, height=300)"
   ]
  },
  {
   "attachments": {},
   "cell_type": "markdown",
   "metadata": {},
   "source": [
    "## Benchmark 2: Combine commits\n",
    "\n",
    "Take the content of the 3 commits and commit that to speckle.\n",
    "\n",
    "View that commit in the embedded viewer"
   ]
  },
  {
   "cell_type": "code",
   "execution_count": 8,
   "metadata": {},
   "outputs": [
    {
     "data": {
      "text/plain": [
       "'Jonathon Broughton: Sent 197 elements from Navisworks. on 2022-12-30 23:26:33.611000+00:00'"
      ]
     },
     "execution_count": 8,
     "metadata": {},
     "output_type": "execute_result"
    }
   ],
   "source": [
    "commit_objects = [client.commit.get(stream_id, commit_id) for commit_id in commit_ids]\n",
    "\n",
    "f\"{commit_objects[0].authorName}: {commit_objects[0].message} on {commit_objects[0].createdAt}\""
   ]
  },
  {
   "attachments": {},
   "cell_type": "markdown",
   "metadata": {},
   "source": [
    "If the 3 urls given are all commits then the first name object has a property called `referencedObject` which is the id of the wrapper object for the commit data."
   ]
  },
  {
   "cell_type": "code",
   "execution_count": 26,
   "metadata": {},
   "outputs": [],
   "source": [
    "referenced_objects = [r.referencedObject for r in commit_objects]"
   ]
  },
  {
   "attachments": {},
   "cell_type": "markdown",
   "metadata": {},
   "source": [
    "We can create a new Federation class which is essentially just adding a name for the collection."
   ]
  },
  {
   "cell_type": "code",
   "execution_count": 10,
   "metadata": {},
   "outputs": [],
   "source": [
    "from specklepy.objects import Base\n",
    "\n",
    "\n",
    "class Federation(Base, speckle_type=\"Federation\"):\n",
    "    def __init__(self, **kwargs):\n",
    "      self[\"Components\"] = []"
   ]
  },
  {
   "cell_type": "code",
   "execution_count": 27,
   "metadata": {},
   "outputs": [],
   "source": [
    "new_commit_object = Base(speckle_type=\"Federation\")\n",
    "\n",
    "new_commit_object[\"Components\"] = [\n",
    "    Base.of_type(\"reference\", referencedId=commit_id)\n",
    "    for commit_id in referenced_objects\n",
    "]"
   ]
  },
  {
   "attachments": {},
   "cell_type": "markdown",
   "metadata": {},
   "source": [
    "For the Viewer to resolve this will require the closure table for each of the reference objects. These closures are used as a shortcut for it to handle the processable objects.\n",
    "\n",
    "We can add a custom operation to our notebook to simply get this from the server.\n",
    "\n",
    "Ideally we'd check the localTransport first to see if we have the closure table already, but for brevity we'll just get it from the server.\n",
    "\n",
    "We'll make a straight GraphQL query of the commit\n"
   ]
  },
  {
   "cell_type": "code",
   "execution_count": 19,
   "metadata": {},
   "outputs": [],
   "source": [
    "from gql import gql, Client\n",
    "from gql.transport.requests import RequestsHTTPTransport\n",
    "\n",
    "\n",
    "def get_closures(wrapper, object_id):\n",
    "    client = Client(\n",
    "        transport=RequestsHTTPTransport(\n",
    "            url=f\"{wrapper._account.serverInfo.url}/graphql\", verify=True, retries=3\n",
    "        )\n",
    "    )\n",
    "\n",
    "    query = gql(\n",
    "        \"\"\" query Object($stream_id: String!, $object_id: String!) { \n",
    "            stream(id: $stream_id) { \n",
    "              object(id: $object_id) { \n",
    "                data \n",
    "              }\n",
    "            }\n",
    "          } \"\"\"\n",
    "    )\n",
    "    params = {\"stream_id\": wrapper.stream_id, \"object_id\": object_id}\n",
    "    return client.execute(query, variable_values=params)[\"stream\"][\"object\"][\"data\"][\n",
    "        \"__closure\"\n",
    "    ]"
   ]
  },
  {
   "attachments": {},
   "cell_type": "markdown",
   "metadata": {},
   "source": [
    "The `new_commit_object` will need the `__closure` table from each of the commits were merging. We can use the `get_closures` function we created earlier to get this.\n",
    "\n",
    "At this point we could refactor to always be using Lists rather than numbered variables, but for now we'll just add the closures to the new commit object."
   ]
  },
  {
   "cell_type": "code",
   "execution_count": 28,
   "metadata": {},
   "outputs": [],
   "source": [
    "closures = {\n",
    "    k: v\n",
    "    for d in [get_closures(wrappers[0], obj_id) for obj_id in referenced_objects]\n",
    "    for k, v in d.items()\n",
    "}\n",
    "closures.update(dict.fromkeys(referenced_objects, 1))\n",
    "\n",
    "\n",
    "new_commit_object[\"__closure\"] = closures"
   ]
  },
  {
   "attachments": {},
   "cell_type": "markdown",
   "metadata": {},
   "source": [
    "Within a notebook it often helps to write defensive code that can be run repeatedly even if the method has already been run. This is because the notebook is stateful and can be run in any order. The following code checks if the `federated` branch exists and if not creates it."
   ]
  },
  {
   "cell_type": "code",
   "execution_count": 14,
   "metadata": {},
   "outputs": [],
   "source": [
    "from specklepy.transports.server import ServerTransport\n",
    "from specklepy.api import operations\n",
    "from specklepy.logging.exceptions import GraphQLException\n",
    "\n",
    "def try_get_branch_or_create(client, stream_id, branch_name):\n",
    "    try:\n",
    "        client.branch.get(\n",
    "            stream_id=stream_id, name=branch_name\n",
    "        ) or client.branch.create(stream_id=stream_id, name=branch_name)\n",
    "        return client.branch.get(\n",
    "            stream_id=stream_id, name=branch_name)\n",
    "    except GraphQLException:\n",
    "        return client.branch.create(stream_id=stream_id, name=branch_name)\n",
    "\n",
    "\n",
    "branch = try_get_branch_or_create(client, stream_id, \"federated\")"
   ]
  },
  {
   "cell_type": "code",
   "execution_count": 15,
   "metadata": {},
   "outputs": [
    {
     "data": {
      "text/plain": [
       "'e654f22a34f02c5c6d8e34e0d6cf01e1'"
      ]
     },
     "execution_count": 15,
     "metadata": {},
     "output_type": "execute_result"
    }
   ],
   "source": [
    "hash_2 = operations.send(base=new_commit_object, transports=[transport])\n",
    "\n",
    "hash_2"
   ]
  },
  {
   "attachments": {},
   "cell_type": "markdown",
   "metadata": {},
   "source": [
    "This doesn't actually work as the default specklepy traversal strips props with __ prefix and neither does it resolve closure for Reference Objects. So we'll need to add a custom operation to the server to resolve this."
   ]
  },
  {
   "cell_type": "code",
   "execution_count": 21,
   "metadata": {},
   "outputs": [],
   "source": [
    "from typing import Any, Dict, List, Optional, Tuple\n",
    "from specklepy.serialization.base_object_serializer import BaseObjectSerializer\n",
    "from uuid import uuid4\n",
    "import hashlib\n",
    "import re\n",
    "from enum import Enum\n",
    "from specklepy.objects.base import Base, DataChunk\n",
    "import ujson\n",
    "\n",
    "PRIMITIVES = (int, float, str, bool)\n",
    "\n",
    "\n",
    "def traverse_base(\n",
    "    serializer: BaseObjectSerializer, base: Base, closures: Dict[str, Any] = {}\n",
    "):\n",
    "    if serializer.write_transports:\n",
    "        for wt in serializer.write_transports:\n",
    "            wt.begin_write()\n",
    "\n",
    "    if not serializer.detach_lineage:\n",
    "        serializer.detach_lineage = [True]\n",
    "\n",
    "        serializer.lineage.append(uuid4().hex)\n",
    "        object_builder = {\"id\": \"\", \"speckle_type\": \"Base\", \"totalChildrenCount\": 0}\n",
    "        object_builder.update(speckle_type=base.speckle_type)\n",
    "        obj, props = base, base.get_serializable_attributes()\n",
    "\n",
    "        while props:\n",
    "            prop = props.pop(0)\n",
    "            value = getattr(obj, prop, None)\n",
    "            chunkable = False\n",
    "            detach = False\n",
    "\n",
    "            # skip props marked to be ignored with \"__\" or \"_\"\n",
    "            if prop.startswith((\"__\", \"_\")):\n",
    "                continue\n",
    "\n",
    "            # don't prepopulate id as this will mess up hashing\n",
    "            if prop == \"id\":\n",
    "                continue\n",
    "\n",
    "            # only bother with chunking and detaching if there is a write transport\n",
    "            if serializer.write_transports:\n",
    "                dynamic_chunk_match = prop.startswith(\"@\") and re.match(\n",
    "                    r\"^@\\((\\d*)\\)\", prop\n",
    "                )\n",
    "                if dynamic_chunk_match:\n",
    "                    chunk_size = dynamic_chunk_match.groups()[0]\n",
    "                    serializer._chunkable[prop] = (\n",
    "                        int(chunk_size) if chunk_size else base._chunk_size_default\n",
    "                    )\n",
    "\n",
    "                chunkable = prop in base._chunkable\n",
    "                detach = bool(\n",
    "                    prop.startswith(\"@\") or prop in base._detachable or chunkable\n",
    "                )\n",
    "\n",
    "            # 1. handle None and primitives (ints, floats, strings, and bools)\n",
    "            if value is None or isinstance(value, PRIMITIVES):\n",
    "                object_builder[prop] = value\n",
    "                continue\n",
    "\n",
    "            # NOTE: for dynamic props, this won't be re-serialised as an enum but as an int\n",
    "            if isinstance(value, Enum):\n",
    "                object_builder[prop] = value.value\n",
    "                continue\n",
    "\n",
    "            # 2. handle Base objects\n",
    "            elif isinstance(value, Base):\n",
    "                child_obj = serializer.traverse_value(value, detach=detach)\n",
    "                if detach and serializer.write_transports:\n",
    "                    ref_id = child_obj[\"id\"]\n",
    "                    object_builder[prop] = serializer.detach_helper(ref_id=ref_id)\n",
    "                else:\n",
    "                    object_builder[prop] = child_obj\n",
    "\n",
    "            # 3. handle chunkable props\n",
    "            elif chunkable and serializer.write_transports:\n",
    "                chunks = []\n",
    "                max_size = base._chunkable[prop]\n",
    "                chunk = DataChunk()\n",
    "                for count, item in enumerate(value):\n",
    "                    if count and count % max_size == 0:\n",
    "                        chunks.append(chunk)\n",
    "                        chunk = DataChunk()\n",
    "                    chunk.data.append(item)\n",
    "                chunks.append(chunk)\n",
    "\n",
    "                chunk_refs = []\n",
    "                for c in chunks:\n",
    "                    serializer.detach_lineage.append(detach)\n",
    "                    ref_id, _ = serializer._traverse_base(c)\n",
    "                    ref_obj = serializer.detach_helper(ref_id=ref_id)\n",
    "                    chunk_refs.append(ref_obj)\n",
    "                object_builder[prop] = chunk_refs\n",
    "\n",
    "            # 4. handle all other cases\n",
    "            else:\n",
    "                child_obj = serializer.traverse_value(value, detach)\n",
    "                object_builder[prop] = child_obj\n",
    "\n",
    "            closure = {}\n",
    "            # add closures & children count to the object\n",
    "            detached = serializer.detach_lineage.pop()\n",
    "            if serializer.lineage[-1] in serializer.family_tree:\n",
    "                closure = {\n",
    "                    ref: depth - len(serializer.detach_lineage)\n",
    "                    for ref, depth in serializer.family_tree[\n",
    "                        serializer.lineage[-1]\n",
    "                    ].items()\n",
    "                }\n",
    "\n",
    "            ############ ADDING OUR MAGIC HERE #################################\n",
    "            closure.update(closures)\n",
    "\n",
    "            object_builder[\"totalChildrenCount\"] = len(closure)\n",
    "\n",
    "            obj_id = hashlib.sha256(ujson.dumps(object_builder).encode()).hexdigest()[\n",
    "                :32\n",
    "            ]\n",
    "\n",
    "            object_builder[\"id\"] = obj_id\n",
    "            if closure:\n",
    "                object_builder[\"__closure\"] = serializer.closure_table[obj_id] = closure\n",
    "\n",
    "            # write detached or root objects to transports\n",
    "            if detached and serializer.write_transports:\n",
    "                for t in serializer.write_transports:\n",
    "                    t.save_object(\n",
    "                        id=obj_id, serialized_object=ujson.dumps(object_builder)\n",
    "                    )\n",
    "\n",
    "            del serializer.lineage[-1]\n",
    "\n",
    "            if serializer.write_transports:\n",
    "                for wt in serializer.write_transports:\n",
    "                    wt.end_write()\n",
    "\n",
    "            return obj_id, object_builder"
   ]
  },
  {
   "cell_type": "code",
   "execution_count": 22,
   "metadata": {},
   "outputs": [],
   "source": [
    "serializer = BaseObjectSerializer(write_transports=[transport])\n",
    "\n",
    "obj_id, serialized_object = traverse_base(serializer, new_commit_object, closures)"
   ]
  },
  {
   "cell_type": "code",
   "execution_count": 23,
   "metadata": {},
   "outputs": [],
   "source": [
    "commit_id2 = client.commit.create(\n",
    "    branch_name=branch.name,\n",
    "    stream_id=stream_id,\n",
    "    object_id=obj_id,\n",
    "    message=\"federated commit\",\n",
    ")"
   ]
  },
  {
   "attachments": {},
   "cell_type": "markdown",
   "metadata": {},
   "source": [
    "Once again we build the embed URL and display it."
   ]
  },
  {
   "cell_type": "code",
   "execution_count": 24,
   "metadata": {},
   "outputs": [
    {
     "data": {
      "text/html": [
       "\n",
       "        <iframe\n",
       "            width=\"400\"\n",
       "            height=\"300\"\n",
       "            src=\"https://speckle.xyz/embed?stream=7ce9010d71&commit=9f68a5fd17&transparent=True&autoload=True&hidecontrols=False&hidesidebar=True&hideselectioninfo=True\"\n",
       "            frameborder=\"0\"\n",
       "            allowfullscreen\n",
       "            \n",
       "        ></iframe>\n",
       "        "
      ],
      "text/plain": [
       "<IPython.lib.display.IFrame at 0x7f70ae64a2b0>"
      ]
     },
     "execution_count": 24,
     "metadata": {},
     "output_type": "execute_result"
    }
   ],
   "source": [
    "embed_url2 = f\"https://speckle.xyz/embed?stream={stream_id}&commit={commit_id2}&transparent={transparency}&autoload={autoload}&hidecontrols={hide_controls}&hidesidebar={hide_sidebar}&hideselectioninfo={hide_selection_info}\"\n",
    "\n",
    "from IPython.display import IFrame\n",
    "\n",
    "IFrame(embed_url2, width=400, height=300)"
   ]
  },
  {
   "cell_type": "code",
   "execution_count": 25,
   "metadata": {},
   "outputs": [
    {
     "data": {
      "text/plain": [
       "'https://speckle.xyz/embed?stream=7ce9010d71&commit=9f68a5fd17&transparent=True&autoload=True&hidecontrols=False&hidesidebar=True&hideselectioninfo=True'"
      ]
     },
     "execution_count": 25,
     "metadata": {},
     "output_type": "execute_result"
    }
   ],
   "source": [
    "embed_url2"
   ]
  },
  {
   "attachments": {},
   "cell_type": "markdown",
   "metadata": {},
   "source": [
    "This federation is kinda simple, kinda clunky and doesn't de-dupe at all as it is not even examining the content of the individual commits.\n",
    "\n",
    "To do anything approaching this we need to:\n",
    "\n",
    "- load the child members of each commit\n",
    "- have a strategy for de-duping\n",
    "- have a strategy for merging\n",
    "- have a strategy for handling any other conflicts\n"
   ]
  },
  {
   "cell_type": "markdown",
   "metadata": {},
   "source": [
    "\n",
    "## Benchmark 3: Combine commits and de-dupe"
   ]
  },
  {
   "attachments": {},
   "cell_type": "markdown",
   "metadata": {},
   "source": [
    "The next step is to extract the component objects from each commit and then de-dupe them. This is a bit more involved as we need to load the objects from the server and then compare them. We also need to be able to merge them."
   ]
  },
  {
   "cell_type": "code",
   "execution_count": 30,
   "metadata": {},
   "outputs": [],
   "source": [
    "commit_data = [\n",
    "    operations.receive(obj_id=ref_obj, remote_transport=wrap.get_transport())\n",
    "    for ref_obj, wrap in zip(referenced_objects, wrappers)\n",
    "]"
   ]
  },
  {
   "attachments": {},
   "cell_type": "markdown",
   "metadata": {},
   "source": [
    "We create 3 Base objects and create a commit essentially identical to Benchmark 2."
   ]
  },
  {
   "cell_type": "code",
   "execution_count": 37,
   "metadata": {},
   "outputs": [],
   "source": [
    "another_commit_object = Base(speckle_type=\"Federation.Granular\")\n",
    "another_commit_object[\"@Components\"] = commit_data"
   ]
  },
  {
   "attachments": {},
   "cell_type": "markdown",
   "metadata": {},
   "source": [
    "... and hash them"
   ]
  },
  {
   "cell_type": "code",
   "execution_count": 38,
   "metadata": {},
   "outputs": [],
   "source": [
    "hash3 = operations.send(base=another_commit_object, transports=[transport])"
   ]
  },
  {
   "attachments": {},
   "cell_type": "markdown",
   "metadata": {},
   "source": [
    "And then we create a new commit that contains the resolved objects"
   ]
  },
  {
   "cell_type": "code",
   "execution_count": 39,
   "metadata": {},
   "outputs": [
    {
     "data": {
      "text/html": [
       "\n",
       "        <iframe\n",
       "            width=\"400\"\n",
       "            height=\"300\"\n",
       "            src=\"https://speckle.xyz/embed?stream=7ce9010d71&commit=8671501e17&transparent=True&autoload=True&hidecontrols=False&hidesidebar=True&hideselectioninfo=True\"\n",
       "            frameborder=\"0\"\n",
       "            allowfullscreen\n",
       "            \n",
       "        ></iframe>\n",
       "        "
      ],
      "text/plain": [
       "<IPython.lib.display.IFrame at 0x7f70878c7ee0>"
      ]
     },
     "execution_count": 39,
     "metadata": {},
     "output_type": "execute_result"
    }
   ],
   "source": [
    "commit_id3 = client.commit.create(\n",
    "\n",
    "    branch_name=branch.name,\n",
    "    stream_id=stream_id,\n",
    "    object_id=hash3,\n",
    "    message=\"federated commit\",\n",
    ")\n",
    "\n",
    "embed_url3 = f\"https://speckle.xyz/embed?stream={stream_id}&commit={commit_id3}&transparent={transparency}&autoload={autoload}&hidecontrols={hide_controls}&hidesidebar={hide_sidebar}&hideselectioninfo={hide_selection_info}\"\n",
    "\n",
    "from IPython.display import IFrame\n",
    "\n",
    "IFrame(embed_url3, width=400, height=300)"
   ]
  },
  {
   "cell_type": "code",
   "execution_count": 40,
   "metadata": {},
   "outputs": [
    {
     "data": {
      "text/plain": [
       "'https://speckle.xyz/embed?stream=7ce9010d71&commit=8671501e17&transparent=True&autoload=True&hidecontrols=False&hidesidebar=True&hideselectioninfo=True'"
      ]
     },
     "execution_count": 40,
     "metadata": {},
     "output_type": "execute_result"
    }
   ],
   "source": [
    "embed_url3"
   ]
  }
 ],
 "metadata": {
  "kernelspec": {
   "display_name": ".venv",
   "language": "python",
   "name": "python3"
  },
  "language_info": {
   "codemirror_mode": {
    "name": "ipython",
    "version": 3
   },
   "file_extension": ".py",
   "mimetype": "text/x-python",
   "name": "python",
   "nbconvert_exporter": "python",
   "pygments_lexer": "ipython3",
   "version": "3.8.10"
  },
  "orig_nbformat": 4,
  "vscode": {
   "interpreter": {
    "hash": "4b1a056a85942c167614b25d3274630544ba88a42eccbf9481ac86b23e0f4ce3"
   }
  }
 },
 "nbformat": 4,
 "nbformat_minor": 2
}
