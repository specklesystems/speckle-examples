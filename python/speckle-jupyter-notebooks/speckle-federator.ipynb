{
 "cells": [
  {
   "attachments": {},
   "cell_type": "markdown",
   "metadata": {},
   "source": [
    "# Speckle Federator\n",
    "\n",
    "The purpose of this notebook is to take 3 commits, join them into a new 4th commit and then use the embedded viewer to benchmark performance relative to overlaying them."
   ]
  },
  {
   "cell_type": "code",
   "execution_count": 6,
   "metadata": {},
   "outputs": [],
   "source": [
    "%%capture\n",
    "# capture turns off the output for this cell which would just be the pip install log 🤫\n",
    "%pip install specklepy\n",
    "%pip install python-dotenv\n",
    "\n",
    "%reload_ext dotenv\n",
    "%dotenv"
   ]
  },
  {
   "cell_type": "code",
   "execution_count": 7,
   "metadata": {},
   "outputs": [],
   "source": [
    "import os\n",
    "HOST_SERVER = os.getenv('HOST_SERVER')\n",
    "ACCESS_TOKEN = os.getenv('ACCESS_TOKEN')"
   ]
  },
  {
   "cell_type": "code",
   "execution_count": 8,
   "metadata": {},
   "outputs": [],
   "source": [
    "from dotenv import load_dotenv\n",
    "\n",
    "# specify the path to the .env file\n",
    "dotenv_path = '/path/to/your/.env'\n",
    "\n",
    "# load the .env file from the specified path\n",
    "load_dotenv(dotenv_path)\n",
    "\n",
    "# access the environment variable(s) defined in the .env file\n",
    "my_var = os.getenv('MY_VAR')"
   ]
  },
  {
   "cell_type": "code",
   "execution_count": 11,
   "metadata": {},
   "outputs": [
    {
     "data": {
      "text/plain": [
       "SpeckleClient( server: https://speckle.xyz, authenticated: True )"
      ]
     },
     "execution_count": 11,
     "metadata": {},
     "output_type": "execute_result"
    }
   ],
   "source": [
    "from specklepy.api.client import SpeckleClient\n",
    "\n",
    "client = SpeckleClient(host=HOST_SERVER)  # or whatever your host is\n",
    "client.authenticate_with_token(ACCESS_TOKEN)  # or whatever your token is\n",
    "\n",
    "client"
   ]
  },
  {
   "attachments": {},
   "cell_type": "markdown",
   "metadata": {},
   "source": [
    "I will choose some commits from the Speckle Server that have been sent as parts of a greater whole - in this case, a sample scooper from a Mars rover."
   ]
  },
  {
   "cell_type": "code",
   "execution_count": 12,
   "metadata": {},
   "outputs": [],
   "source": [
    "# Define 3 commits in a single stream.add()\n",
    "commits = [\n",
    "    \"https://speckle.xyz/streams/7ce9010d71/commits/27a5df66a0\",  # scooper bucket\n",
    "    \"https://speckle.xyz/streams/7ce9010d71/commits/f7ef7f5270\",  # fixing plate\n",
    "    \"https://speckle.xyz/streams/7ce9010d71/commits/f6052eaa16\",  # hinged arm\n",
    "]"
   ]
  },
  {
   "attachments": {},
   "cell_type": "markdown",
   "metadata": {},
   "source": [
    "## Benchmark 1:\n",
    "Generate an overlay URL that combines the 3 commits\n",
    "\n",
    "`\\streams\\{STREAM_ID}\\commits\\{COMMIT_ID1}?overlay={COMMIT_ID2},{COMMIT_ID3}`"
   ]
  },
  {
   "cell_type": "code",
   "execution_count": 13,
   "metadata": {},
   "outputs": [],
   "source": [
    "from specklepy.transports.server import ServerTransport\n",
    "from specklepy.api.wrapper import StreamWrapper\n",
    "\n",
    "wrappers = [StreamWrapper(commit_url) for commit_url in commits]\n",
    "\n",
    "transport = ServerTransport(client=client, stream_id=wrappers[0].stream_id)"
   ]
  },
  {
   "cell_type": "code",
   "execution_count": 14,
   "metadata": {},
   "outputs": [],
   "source": [
    "stream_id = wrappers[0].stream_id\n",
    "\n",
    "commit_ids = [wrapper.commit_id for wrapper in wrappers]\n",
    "\n",
    "transparency = True  # make the background transparent\n",
    "autoload = True  # load the stream on page load\n",
    "hide_controls = False  # hide the viewer tools button\n",
    "hide_sidebar = True  # hide the sidebar\n",
    "hide_selection_info = True  # hide the selection info\n",
    "\n",
    "# url = https://speckle.xyz/embed?stream=ca99defd4b&commit=39009883ba&transparent=true&autoload=true&hidecontrols=true&hidesidebar=true&hideselectioninfo=true\n",
    "embed_url = f\"https://speckle.xyz/embed?stream={stream_id}&commit={commit_ids[0]}&overlay={','.join(commit_ids[1:])}&transparent={transparency}&autoload={autoload}&hidecontrols={hide_controls}&hidesidebar={hide_sidebar}&hideselectioninfo={hide_selection_info}\""
   ]
  },
  {
   "cell_type": "code",
   "execution_count": 15,
   "metadata": {},
   "outputs": [
    {
     "data": {
      "text/plain": [
       "'https://speckle.xyz/embed?stream=7ce9010d71&commit=27a5df66a0&overlay=f7ef7f5270,f6052eaa16&transparent=True&autoload=True&hidecontrols=False&hidesidebar=True&hideselectioninfo=True'"
      ]
     },
     "execution_count": 15,
     "metadata": {},
     "output_type": "execute_result"
    }
   ],
   "source": [
    "embed_url"
   ]
  },
  {
   "cell_type": "code",
   "execution_count": 39,
   "metadata": {},
   "outputs": [
    {
     "data": {
      "text/html": [
       "\n",
       "        <iframe\n",
       "            width=\"400\"\n",
       "            height=\"300\"\n",
       "            src=\"https://speckle.xyz/embed?stream=7ce9010d71&commit=27a5df66a0&overlay=f7ef7f5270,f6052eaa16&transparent=True&autoload=True&hidecontrols=False&hidesidebar=True&hideselectioninfo=True\"\n",
       "            frameborder=\"0\"\n",
       "            allowfullscreen\n",
       "            \n",
       "        ></iframe>\n",
       "        "
      ],
      "text/plain": [
       "<IPython.lib.display.IFrame at 0x7f174d9127f0>"
      ]
     },
     "execution_count": 39,
     "metadata": {},
     "output_type": "execute_result"
    }
   ],
   "source": [
    "from IPython.display import IFrame\n",
    "\n",
    "IFrame(embed_url, width=400, height=300)"
   ]
  },
  {
   "attachments": {},
   "cell_type": "markdown",
   "metadata": {},
   "source": [
    "## Benchmark 2: Combine commits\n",
    "\n",
    "Take the content of the 3 commits and commit that to speckle.\n",
    "\n",
    "View that commit in the embedded viewer"
   ]
  },
  {
   "cell_type": "code",
   "execution_count": 18,
   "metadata": {},
   "outputs": [
    {
     "data": {
      "text/plain": [
       "'Jonathon Broughton: Sent 197 elements from Navisworks. on 2022-12-30 23:26:33.611000+00:00'"
      ]
     },
     "execution_count": 18,
     "metadata": {},
     "output_type": "execute_result"
    }
   ],
   "source": [
    "commit_objects = [client.commit.get(stream_id, commit_id) for commit_id in commit_ids]\n",
    "\n",
    "f\"{commit_objects[0].authorName}: {commit_objects[0].message} on {commit_objects[0].createdAt}\""
   ]
  },
  {
   "attachments": {},
   "cell_type": "markdown",
   "metadata": {},
   "source": [
    "If the 3 urls given are all commits then the first name object has a property called `referencedObject` which is the id of the wrapper object for the commit data."
   ]
  },
  {
   "cell_type": "code",
   "execution_count": 19,
   "metadata": {},
   "outputs": [],
   "source": [
    "referenced_objects = [r.referencedObject for r in commit_objects]"
   ]
  },
  {
   "cell_type": "code",
   "execution_count": 20,
   "metadata": {},
   "outputs": [],
   "source": [
    "referenced_objects = [\n",
    "    client.commit.get(stream_id, commit_id).referencedObject\n",
    "    for commit_id in commit_ids\n",
    "]"
   ]
  },
  {
   "attachments": {},
   "cell_type": "markdown",
   "metadata": {},
   "source": [
    "We can create a new Federation class which is essentially just adding a name for the collection."
   ]
  },
  {
   "cell_type": "code",
   "execution_count": 40,
   "metadata": {},
   "outputs": [],
   "source": [
    "from specklepy.objects import Base\n",
    "\n",
    "class Federation(Base, speckle_type=\"Federation\"):\n",
    "    def __init__(self, **kwargs):\n",
    "      self[\"Components\"] = []"
   ]
  },
  {
   "cell_type": "code",
   "execution_count": 41,
   "metadata": {},
   "outputs": [],
   "source": [
    "new_commit_object = Base(speckle_type=\"Federation\")\n",
    "\n",
    "new_commit_object[\"Components\"] = [\n",
    "    Base.of_type(\"reference\", referencedId=commit_id)\n",
    "    for commit_id in referenced_objects\n",
    "]"
   ]
  },
  {
   "attachments": {},
   "cell_type": "markdown",
   "metadata": {},
   "source": [
    "For the Viewer to resolve this will require the closure table for each of the reference objects. These closures are used as a shortcut for it to handle the processable objects.\n",
    "\n",
    "We can add a custom operation to our notebook to simply get this from the server.\n",
    "\n",
    "Ideally we'd check the localTransport first to see if we have the closure table already, but for brevity we'll just get it from the server.\n",
    "\n",
    "We'll make a straight GraphQL query of the commit\n"
   ]
  },
  {
   "cell_type": "code",
   "execution_count": 42,
   "metadata": {},
   "outputs": [],
   "source": [
    "from gql import gql, Client\n",
    "from gql.transport.requests import RequestsHTTPTransport\n",
    "\n",
    "\n",
    "def get_closures(wrapper, object_id):\n",
    "    client = Client(\n",
    "        transport=RequestsHTTPTransport(\n",
    "            url=f\"{wrapper._account.serverInfo.url}/graphql\", verify=True, retries=3\n",
    "        )\n",
    "    )\n",
    "\n",
    "    query = gql(\n",
    "        \"\"\" query Object($stream_id: String!, $object_id: String!) { \n",
    "            stream(id: $stream_id) { \n",
    "              object(id: $object_id) { \n",
    "                data \n",
    "              }\n",
    "            }\n",
    "          } \"\"\"\n",
    "    )\n",
    "    params = {\"stream_id\": wrapper.stream_id, \"object_id\": object_id}\n",
    "    return client.execute(query, variable_values=params)[\"stream\"][\"object\"][\"data\"][\n",
    "        \"__closure\"\n",
    "    ]"
   ]
  },
  {
   "attachments": {},
   "cell_type": "markdown",
   "metadata": {},
   "source": [
    "The `new_commit_object` will need the `__closure` table from each of the commits were merging. We can use the `get_closures` function we created earlier to get this.\n",
    "\n",
    "At this point we could refactor to always be using Lists rather than numbered variables, but for now we'll just add the closures to the new commit object."
   ]
  },
  {
   "cell_type": "code",
   "execution_count": 43,
   "metadata": {},
   "outputs": [],
   "source": [
    "closures = {\n",
    "    k: v\n",
    "    for d in [get_closures(wrappers[0], obj_id) for obj_id in referenced_objects]\n",
    "    for k, v in d.items()\n",
    "}\n",
    "closures.update(dict.fromkeys(referenced_objects, 1))\n",
    "\n",
    "\n",
    "new_commit_object[\"__closure\"] = closures"
   ]
  },
  {
   "attachments": {},
   "cell_type": "markdown",
   "metadata": {},
   "source": [
    "Within a notebook it often helps to write defensive code that can be run repeatedly even if the method has already been run. This is because the notebook is stateful and can be run in any order. The following code checks if the `federated` branch exists and if not creates it."
   ]
  },
  {
   "cell_type": "code",
   "execution_count": 44,
   "metadata": {},
   "outputs": [],
   "source": [
    "from specklepy.transports.server import ServerTransport\n",
    "from specklepy.api import operations\n",
    "from specklepy.logging.exceptions import GraphQLException\n",
    "\n",
    "def try_get_branch_or_create(client, stream_id, branch_name):\n",
    "    try:\n",
    "        client.branch.get(\n",
    "            stream_id=stream_id, name=branch_name\n",
    "        ) or client.branch.create(stream_id=stream_id, name=branch_name)\n",
    "        return client.branch.get(\n",
    "            stream_id=stream_id, name=branch_name)\n",
    "    except GraphQLException:\n",
    "        return client.branch.create(stream_id=stream_id, name=branch_name)\n",
    "\n",
    "\n",
    "branch = try_get_branch_or_create(client, stream_id, \"federated\")"
   ]
  },
  {
   "cell_type": "code",
   "execution_count": 45,
   "metadata": {},
   "outputs": [
    {
     "data": {
      "text/plain": [
       "'e654f22a34f02c5c6d8e34e0d6cf01e1'"
      ]
     },
     "execution_count": 45,
     "metadata": {},
     "output_type": "execute_result"
    }
   ],
   "source": [
    "hash_2 = operations.send(base=new_commit_object, transports=[transport])\n",
    "\n",
    "hash_2"
   ]
  },
  {
   "attachments": {},
   "cell_type": "markdown",
   "metadata": {},
   "source": [
    "This doesn't actually work as the default specklepy traversal strips props with __ prefix and neither does it resolve closure for Reference Objects. So we'll need to add a custom operation to the server to resolve this."
   ]
  },
  {
   "cell_type": "code",
   "execution_count": 46,
   "metadata": {},
   "outputs": [],
   "source": [
    "from typing import Any, Dict, List, Optional, Tuple\n",
    "from specklepy.serialization.base_object_serializer import BaseObjectSerializer\n",
    "from uuid import uuid4\n",
    "import hashlib\n",
    "import re\n",
    "from enum import Enum\n",
    "from specklepy.objects.base import Base, DataChunk\n",
    "import ujson\n",
    "\n",
    "PRIMITIVES = (int, float, str, bool)\n",
    "\n",
    "\n",
    "def traverse_base(\n",
    "    serializer: BaseObjectSerializer, base: Base, closures: Dict[str, Any] = {}\n",
    "):\n",
    "    if serializer.write_transports:\n",
    "        for wt in serializer.write_transports:\n",
    "            wt.begin_write()\n",
    "\n",
    "    if not serializer.detach_lineage:\n",
    "        serializer.detach_lineage = [True]\n",
    "\n",
    "        serializer.lineage.append(uuid4().hex)\n",
    "        object_builder = {\"id\": \"\", \"speckle_type\": \"Base\", \"totalChildrenCount\": 0}\n",
    "        object_builder.update(speckle_type=base.speckle_type)\n",
    "        obj, props = base, base.get_serializable_attributes()\n",
    "\n",
    "        while props:\n",
    "            prop = props.pop(0)\n",
    "            value = getattr(obj, prop, None)\n",
    "            chunkable = False\n",
    "            detach = False\n",
    "\n",
    "            # skip props marked to be ignored with \"__\" or \"_\"\n",
    "            if prop.startswith((\"__\", \"_\")):\n",
    "                continue\n",
    "\n",
    "            # don't prepopulate id as this will mess up hashing\n",
    "            if prop == \"id\":\n",
    "                continue\n",
    "\n",
    "            # only bother with chunking and detaching if there is a write transport\n",
    "            if serializer.write_transports:\n",
    "                dynamic_chunk_match = prop.startswith(\"@\") and re.match(\n",
    "                    r\"^@\\((\\d*)\\)\", prop\n",
    "                )\n",
    "                if dynamic_chunk_match:\n",
    "                    chunk_size = dynamic_chunk_match.groups()[0]\n",
    "                    serializer._chunkable[prop] = (\n",
    "                        int(chunk_size) if chunk_size else base._chunk_size_default\n",
    "                    )\n",
    "\n",
    "                chunkable = prop in base._chunkable\n",
    "                detach = bool(\n",
    "                    prop.startswith(\"@\") or prop in base._detachable or chunkable\n",
    "                )\n",
    "\n",
    "            # 1. handle None and primitives (ints, floats, strings, and bools)\n",
    "            if value is None or isinstance(value, PRIMITIVES):\n",
    "                object_builder[prop] = value\n",
    "                continue\n",
    "\n",
    "            # NOTE: for dynamic props, this won't be re-serialised as an enum but as an int\n",
    "            if isinstance(value, Enum):\n",
    "                object_builder[prop] = value.value\n",
    "                continue\n",
    "\n",
    "            # 2. handle Base objects\n",
    "            elif isinstance(value, Base):\n",
    "                child_obj = serializer.traverse_value(value, detach=detach)\n",
    "                if detach and serializer.write_transports:\n",
    "                    ref_id = child_obj[\"id\"]\n",
    "                    object_builder[prop] = serializer.detach_helper(ref_id=ref_id)\n",
    "                else:\n",
    "                    object_builder[prop] = child_obj\n",
    "\n",
    "            # 3. handle chunkable props\n",
    "            elif chunkable and serializer.write_transports:\n",
    "                chunks = []\n",
    "                max_size = base._chunkable[prop]\n",
    "                chunk = DataChunk()\n",
    "                for count, item in enumerate(value):\n",
    "                    if count and count % max_size == 0:\n",
    "                        chunks.append(chunk)\n",
    "                        chunk = DataChunk()\n",
    "                    chunk.data.append(item)\n",
    "                chunks.append(chunk)\n",
    "\n",
    "                chunk_refs = []\n",
    "                for c in chunks:\n",
    "                    serializer.detach_lineage.append(detach)\n",
    "                    ref_id, _ = serializer._traverse_base(c)\n",
    "                    ref_obj = serializer.detach_helper(ref_id=ref_id)\n",
    "                    chunk_refs.append(ref_obj)\n",
    "                object_builder[prop] = chunk_refs\n",
    "\n",
    "            # 4. handle all other cases\n",
    "            else:\n",
    "                child_obj = serializer.traverse_value(value, detach)\n",
    "                object_builder[prop] = child_obj\n",
    "\n",
    "            closure = {}\n",
    "            # add closures & children count to the object\n",
    "            detached = serializer.detach_lineage.pop()\n",
    "            if serializer.lineage[-1] in serializer.family_tree:\n",
    "                closure = {\n",
    "                    ref: depth - len(serializer.detach_lineage)\n",
    "                    for ref, depth in serializer.family_tree[\n",
    "                        serializer.lineage[-1]\n",
    "                    ].items()\n",
    "                }\n",
    "\n",
    "            ############ ADDING OUR MAGIC HERE #################################\n",
    "            closure.update(closures)\n",
    "\n",
    "            object_builder[\"totalChildrenCount\"] = len(closure)\n",
    "\n",
    "            obj_id = hashlib.sha256(ujson.dumps(object_builder).encode()).hexdigest()[\n",
    "                :32\n",
    "            ]\n",
    "\n",
    "            object_builder[\"id\"] = obj_id\n",
    "            if closure:\n",
    "                object_builder[\"__closure\"] = serializer.closure_table[obj_id] = closure\n",
    "\n",
    "            # write detached or root objects to transports\n",
    "            if detached and serializer.write_transports:\n",
    "                for t in serializer.write_transports:\n",
    "                    t.save_object(\n",
    "                        id=obj_id, serialized_object=ujson.dumps(object_builder)\n",
    "                    )\n",
    "\n",
    "            del serializer.lineage[-1]\n",
    "\n",
    "            if serializer.write_transports:\n",
    "                for wt in serializer.write_transports:\n",
    "                    wt.end_write()\n",
    "\n",
    "            return obj_id, object_builder"
   ]
  },
  {
   "cell_type": "code",
   "execution_count": 47,
   "metadata": {},
   "outputs": [],
   "source": [
    "serializer = BaseObjectSerializer(write_transports=[transport])\n",
    "\n",
    "obj_id, serialized_object = traverse_base(serializer, new_commit_object, closures)"
   ]
  },
  {
   "cell_type": "code",
   "execution_count": 48,
   "metadata": {},
   "outputs": [
    {
     "data": {
      "text/plain": [
       "{'id': '5e9ac0017b74034997dbe5fa45714a90',\n",
       " 'speckle_type': 'Base',\n",
       " 'totalChildrenCount': 482,\n",
       " 'Components': [{'id': '8ca84c1c0447b4caaed8b622dad90263',\n",
       "   'speckle_type': 'reference',\n",
       "   'totalChildrenCount': 0,\n",
       "   'applicationId': None,\n",
       "   'referencedId': 'f048873d78d8833e1a2c0d7c2391a9bb',\n",
       "   'units': None},\n",
       "  {'id': 'e4b7f1ace651fa8a899d4860a0572af6',\n",
       "   'speckle_type': 'reference',\n",
       "   'totalChildrenCount': 0,\n",
       "   'applicationId': None,\n",
       "   'referencedId': 'de61f36d6a4c6b9713e445ab4d801ea9',\n",
       "   'units': None},\n",
       "  {'id': '5d1c1e466dd4df7ae76c7c9183b4317f',\n",
       "   'speckle_type': 'reference',\n",
       "   'totalChildrenCount': 0,\n",
       "   'applicationId': None,\n",
       "   'referencedId': '90f505f7625cd121e99af6e81a1a1013',\n",
       "   'units': None}],\n",
       " '__closure': {'0042e47be89ba7af3cd0344012dd44fb': 6,\n",
       "  '0225bdfc617ae2e2cfa3182e5f319026': 8,\n",
       "  '03ab601e5a6e7743dbada875bd634a3d': 3,\n",
       "  '04849987174c213dcfba897757bcf4b4': 6,\n",
       "  '04b68bc41ce7aa7e58e088e997193684': 5,\n",
       "  '062f59e346ab9ba7f59d60a46b4e421a': 4,\n",
       "  '085d6f93043117211d14fbf9d5443b6a': 6,\n",
       "  '09514b6698a1bd2eb1416cf67ffd0f7a': 6,\n",
       "  '0a67117b45e61dcfdcc8f7d210721b7b': 6,\n",
       "  '0ab420956ef7bc7ca27d21635c5c342c': 5,\n",
       "  '0b7b6dd167d27c87556447e5fa9ad525': 6,\n",
       "  '0f023043914da96da0f382df65cde7c5': 3,\n",
       "  '100462516aea9ab10bd2d0696d364b90': 6,\n",
       "  '103069cb1ecfe5c97ad2aa5b45d6d3ec': 6,\n",
       "  '1085d424f4cc6b6f1b9c0424b83ba6db': 6,\n",
       "  '10a644b9629780a8c3ac1fe5c9029f8d': 6,\n",
       "  '111dc9d1d10510f4c04f63a7b8685396': 6,\n",
       "  '115211aa0f180bf36c65454d350a1d32': 5,\n",
       "  '12f79a3a7c852208d309df0d55c3a88f': 6,\n",
       "  '138a0cc4e63e5e45d00686b82b59265d': 5,\n",
       "  '1640cc0a31123bc5f1e3eca85d10b5ee': 6,\n",
       "  '173c7b2dbe06706d67a092c1d99087bf': 5,\n",
       "  '17d1a01b2bf6341ef794246deee682ca': 4,\n",
       "  '18b649cb7866c1b96cd632ab7a436753': 6,\n",
       "  '19416d32f6e7a966b779859ab9f1530a': 3,\n",
       "  '19c5e39ef2298fa5597ab5e92b84bb07': 6,\n",
       "  '19e8453a1b04c7b194b16ac96735a000': 5,\n",
       "  '1a1d6a331f252f1ae76bf70d53d48cce': 6,\n",
       "  '1a2bc6376ca46845a1a7f48791cb9c97': 4,\n",
       "  '1b639c07f412196f679d1d530aa9460c': 5,\n",
       "  '1c2bdc54ad865d9afbdf15c4b64b8f05': 6,\n",
       "  '1c72d6f7b289d3375b774aa65940757b': 6,\n",
       "  '1dd1893adc1b41fa94405f85e9ab9778': 6,\n",
       "  '1e98c4a693587ae11e9198238a398e25': 7,\n",
       "  '1fa8af2d41d5d8be17314364cbee06a7': 3,\n",
       "  '1ff14af05cca4d7af0fce9f492e43338': 6,\n",
       "  '207d4ad9969bc59948566bba75708d71': 6,\n",
       "  '215c6149d3b63d14f2b1eb4eced39c83': 6,\n",
       "  '21a095d19bcf6a52811b9c921c239797': 7,\n",
       "  '21a3ece6ec7dfc21cab2100f815b6819': 5,\n",
       "  '21d3a4b5e2e011305cd02c89d2903e5c': 6,\n",
       "  '2221f8d5a152fb6288bbf5f936e6a746': 5,\n",
       "  '22709d8a05e3160384725a2b6866976c': 6,\n",
       "  '230d91ed05bc131f3d2ba29d0b64afb0': 5,\n",
       "  '233a642f15967fc9455d6a989aa3f5eb': 6,\n",
       "  '2351d0c30da1485c382e55538b687b0a': 6,\n",
       "  '2368ce5810834dec95d93d1fdd9ce6fc': 5,\n",
       "  '2486e10312e03ece1f8c948978cc4c5c': 6,\n",
       "  '25fbfe163b3f3fde431d63932efefb83': 4,\n",
       "  '280666bb5e9a7ea0d904aa9d8bad9861': 6,\n",
       "  '29c0559181e3707257b7a0489a43bc61': 6,\n",
       "  '29da5c73f8cf72f50235266eca56190b': 3,\n",
       "  '2d90f77d06e1f8341e709d449acc9914': 5,\n",
       "  '2e726b6a67fa0777f804a0ae69ddce04': 6,\n",
       "  '2f4f4cfcd7de610c882870d7ef65fa21': 6,\n",
       "  '2f9da7881eab711d1a7f724af2af005c': 4,\n",
       "  '30eb2b271bca02ef7699fabef6d0e3f1': 5,\n",
       "  '3173c1f5b3f51b240d0740c612802246': 6,\n",
       "  '31d2ab76fc8ad99652b6c61ba2833dc9': 4,\n",
       "  '322d56fcd4b1981cf7ab6fecea605d3f': 6,\n",
       "  '333222fb5af7cc5e64c943b9f30f65da': 5,\n",
       "  '336a5e219b983272fb45b21aa805b0b6': 6,\n",
       "  '33d15b92495a423ec31aefdd3ce6ff88': 6,\n",
       "  '34759c346364d703fccb626e5c44ac0a': 8,\n",
       "  '34b285525ef6dcd9297dc7bf28c9096c': 4,\n",
       "  '34b3af90d9ea8740b47fc748f21674b7': 6,\n",
       "  '35689e28c8cbab69fa7e1283e7ba7062': 3,\n",
       "  '3574e3450e99005a6c34aa262bcc3474': 6,\n",
       "  '35e3e16c8047781eb93c742fa16e4f02': 6,\n",
       "  '36199c18297ef4e3f63938ebeb5f30e2': 8,\n",
       "  '36bddcf8e671c3803cd528f02c54fc17': 6,\n",
       "  '37cb5f19a93eec425b54f8683effac29': 4,\n",
       "  '3848c0c906080f4b6c633e09f46e0266': 6,\n",
       "  '39200fa66e4c757bba62562a392c186b': 4,\n",
       "  '39b2a2d5e4fe1a43946c962cc97b603d': 7,\n",
       "  '3a39ac35da3f15c64f034d70552e9310': 7,\n",
       "  '3a96c77b3f45629bca0a8627fcd82bdc': 3,\n",
       "  '3c8fc570ee971e8aee4fa3e8afdff579': 6,\n",
       "  '3d9ff49b05c36beccb6f8917fd5f2a18': 6,\n",
       "  '3de33b6f6699f345129eac0993fd0133': 6,\n",
       "  '3f892c35d2aed585742a3df0f1230fea': 6,\n",
       "  '415bf5cda4ee82dd79955a9c5761f02b': 6,\n",
       "  '41cae94978f25dde5584a56d2a01c8cf': 6,\n",
       "  '42084d687e2db00340052d575e76bdab': 4,\n",
       "  '427e4555516585d11ea86a9d761e50e2': 3,\n",
       "  '431482a8aa6471e8c202f65b6d2336ce': 3,\n",
       "  '4396714206a994fdb03a3610395ccf80': 5,\n",
       "  '43d02679788e971b66bbde28182e86fe': 6,\n",
       "  '4487ffca30ec7a52a0cd59d3900e7f82': 6,\n",
       "  '468de4d9b7f2d9e06fe7ac64700d6840': 6,\n",
       "  '4718d784ab3bae896eb4ed82e3d6005a': 6,\n",
       "  '47a72decc5de5344760929411eab947c': 3,\n",
       "  '48d52cfd979a35d79185ef8d06d50eab': 5,\n",
       "  '4bf6f47455c03768fa93250da3c4dc73': 6,\n",
       "  '4c1c1f46cf6f33c9cbc6645ba7068562': 6,\n",
       "  '4c4b8201c792125e3d9464a1a2074799': 4,\n",
       "  '4c8359be03781a8986d3c88e9a4fc755': 6,\n",
       "  '4ce1e9bb1082a421fec74548d66e014c': 6,\n",
       "  '4dd1981dcff7741d15d2f3bf4eb47802': 7,\n",
       "  '4e1b4e22b8cef971b119c63c0fc58570': 5,\n",
       "  '4e7455dc409df8bc7c994648f91cea31': 5,\n",
       "  '4ea4435c12b14d74206aff83557134f0': 6,\n",
       "  '4f0cc88818b787cd89810d17281468d9': 5,\n",
       "  '5062fba68c0456e4a9b75c1eca8baf26': 6,\n",
       "  '50d68f366e9477e04a8ba0335217a0c8': 4,\n",
       "  '515542cdeab1b866cdb94e02fa3594fb': 4,\n",
       "  '523e4ba6d373bc8da7e3ba02ce48c51f': 6,\n",
       "  '52c84650f8bf55b76cba330ac62881e4': 6,\n",
       "  '53ef4d389bdc952bc949ade77e591b52': 6,\n",
       "  '5440fd81675151568e75c9908df80691': 3,\n",
       "  '5474ec33801827c3b6304cdbe41fb5db': 2,\n",
       "  '552e31ec2a53b4bb6add8d371c11575d': 5,\n",
       "  '559e59363499abdccf3794e24c32f357': 4,\n",
       "  '564f93b3a2f27960c7f53ad7dbfc106e': 6,\n",
       "  '56893dc890406fa23db4f917c996d76b': 6,\n",
       "  '57ee8cccb22baa3bdef070cee3bc5d20': 4,\n",
       "  '583b21aff834528d034bcd68d4e6c218': 5,\n",
       "  '5873652997d8037a7efad041941aaec4': 4,\n",
       "  '58f52356169d24d25e0a437b1f712237': 3,\n",
       "  '5981c5a4005a8b87175bed94ff4e66b6': 6,\n",
       "  '5a091857492f14f958a4d7022569ef9b': 6,\n",
       "  '5b336a41e1185a084bded7e051fce5ad': 4,\n",
       "  '5bd399b64e0435ccc6623a37d8086187': 5,\n",
       "  '5d96b8492c76729f8cb76cad443bc0b2': 6,\n",
       "  '5d97f4b269294da8b84b4b16aa5d1b73': 4,\n",
       "  '5e13c43e0b06ef0cb3300c7332be8517': 6,\n",
       "  '5e47ef6bd3e7a771293656f071f881e7': 6,\n",
       "  '6233fe4a4375ca9db93a8a20f5d0f193': 5,\n",
       "  '62413ba8c6b9d63ac675050996dcd881': 3,\n",
       "  '63ea4529fc6f4f1e7ef0e8145a59dc9b': 6,\n",
       "  '64818bd38e2c9a75ed7b759d0eafc375': 6,\n",
       "  '658568e30de225ee715483e3b2bed344': 3,\n",
       "  '65c8bd6481285f97773d5980b17ab987': 6,\n",
       "  '67207e2e325de5187adbbb37e94c46dc': 6,\n",
       "  '68d2eb22eec13bcd95a12c68911faff7': 5,\n",
       "  '68fadcba3c314b23887d3d2ca994939c': 6,\n",
       "  '697ef429acb134c1e2954934c93cddb3': 5,\n",
       "  '6a1e4af6691191dd127cc71bc807c1c3': 6,\n",
       "  '6af3e7d78a718cb3c1d0c94306ed17d7': 6,\n",
       "  '6bed5797f143b8167fc8e9b241b02b4e': 4,\n",
       "  '6efbcb927fb5bc96d7da22c9bd4482e0': 6,\n",
       "  '6f08829d71c17b34927d89b756c7b9d8': 6,\n",
       "  '70472fc3cd0cf951cffafb8ba0fb671e': 8,\n",
       "  '706526d7829b98c42d4f7aee466b4be4': 6,\n",
       "  '71950fbfe05a045e2a8df7e24415a2b6': 5,\n",
       "  '71f9788bab0c6746cc474f5dae088e92': 5,\n",
       "  '73a91b8cc474d3e4e96b7d9610a7e7d3': 4,\n",
       "  '73b8ed5481bc2f18ad5c4dce4238e6ac': 6,\n",
       "  '76581047a093fee72caff733eb5431cf': 3,\n",
       "  '767df704984ebcae9246b5c515bfa690': 6,\n",
       "  '77256a9e95fa240030e66adad2119cb5': 5,\n",
       "  '78636c87d2f5b580c1b8be2b83668ea1': 6,\n",
       "  '78bb0133457f5e35f98feff6638f693b': 4,\n",
       "  '7a8f2417a6087003df3f34449821015a': 6,\n",
       "  '7bc10201211752e03a232c28cab7a62e': 6,\n",
       "  '7c64d30021715cc281e8f10b0788136e': 6,\n",
       "  '7cdde1bc9f1a6ec0ed6133625553c79f': 6,\n",
       "  '7d099448280bd7a8fa61e581a3e1f1e4': 7,\n",
       "  '7e5a46128f198034c2e50e5fd1f8a52b': 6,\n",
       "  '7fb2ea3d7f0c37870910648f66e4e8ca': 4,\n",
       "  '7ff718659e978ad23fbad33b65c40d49': 6,\n",
       "  '801454c23020aba32bd52411c2464768': 6,\n",
       "  '819c3bc00ff6944a3dc5b463e625d564': 3,\n",
       "  '8211a5273abd0697217160742141d546': 6,\n",
       "  '8230e82b97eaa4a9317b69a6c29c9ccd': 3,\n",
       "  '83433a42aab078f475d9c9ab60fdd807': 6,\n",
       "  '84ba90a59b686dd5380e4fb572381c06': 4,\n",
       "  '85a25045bd232ddf662ced68798accf8': 6,\n",
       "  '87aca6e88c0d5b3d43dcb8c7b2e0d861': 4,\n",
       "  '8917ed004b21306da5d0249c9bb21d3c': 6,\n",
       "  '89648ade9fb37267c1de6469a330d85d': 6,\n",
       "  '89ba369f8c50947db00a5b413f7ba99c': 6,\n",
       "  '8aceacc5d75d17ca0f008b8e7ca889ad': 3,\n",
       "  '8ade0eee6cd1a5c116ede563827b4864': 6,\n",
       "  '8bb496dae0933ce740a72e6d4209007a': 6,\n",
       "  '8c0dd3a16c3c7d44f5cd490c63ca0a12': 6,\n",
       "  '8c3595d1f2710d09b82fd7352dd06e78': 8,\n",
       "  '8c748b6474f81fa6fb0d868c990ba579': 3,\n",
       "  '8d5d67178791c54eac275e72417676fb': 3,\n",
       "  '8ea2c13c3393a4fba9f613e3f43f0758': 7,\n",
       "  '8eb2a07fc61327ae67ff832fce3dc95d': 6,\n",
       "  '8edec69cb79b7acfe9bc93ad5a5e2de0': 3,\n",
       "  '903bac2846813e1c76b9ab80bce10ff3': 4,\n",
       "  '909ef11c1fc8f8d6f6fb76647ca9171e': 4,\n",
       "  '91432672b85b2c3a3215020bce4ffdad': 6,\n",
       "  '934c1544bba2b75b3e8a297cdb469992': 6,\n",
       "  '93d6cd059e6cf0cfd801c8e69070edbe': 6,\n",
       "  '95f35a362c801586a0e44a1c913d9644': 5,\n",
       "  '96f77cb6c6ed8bcabb0ac3ae213c5778': 6,\n",
       "  '9796211a1f9f646ac2b6b4cfb2c8684b': 6,\n",
       "  '97f59f8afbcceadf15f2f155778c5ad8': 3,\n",
       "  '98116549e85722fa116791469c74c743': 4,\n",
       "  '989a2251a1b48c9941b6ace3b08988ac': 8,\n",
       "  '98f7e0a465b1ac4e8a7b952fb6407ee9': 6,\n",
       "  '99eadf618c48b02727b0b5a3645280d7': 5,\n",
       "  '9b97279220e0716f7fa57589b6ab4b3c': 4,\n",
       "  '9bb07c7cfbb172979978ce0552d4e0c8': 3,\n",
       "  '9bb2beea79c69cc108a8ccfe3e434e6c': 5,\n",
       "  '9bd97ee82bfc9d765f7b06c4c863b139': 4,\n",
       "  '9beb86ce0ed7ec624b83e14d7e78cbc9': 3,\n",
       "  '9bee0ca0f493251fca31db50d25fd069': 6,\n",
       "  '9c1b8d9afd42d19b91970fa6fb40980b': 8,\n",
       "  '9c55f85afd9d312931c23096473cc009': 4,\n",
       "  '9de1e9c04b0b8dfb21fb119debe10b74': 6,\n",
       "  '9e3c2b1111d944c35ca3be0def8ff4ee': 6,\n",
       "  '9ec16b574db86a79bd53dbba1ba08a2c': 6,\n",
       "  '9f5ba2e93a2e5e42de8f80d6368fbea4': 5,\n",
       "  '9f72ee1db20ce7bf72f545dd1417977e': 5,\n",
       "  'a0664731fd31e9714a8ae4adabb7e438': 6,\n",
       "  'a06880593063b5412c9177a9b55ded8b': 6,\n",
       "  'a232ad9dfd45faa16d264124b30ce879': 7,\n",
       "  'a2aa508c5af9526818ce6f9ccfb53df6': 6,\n",
       "  'a3fbf801b3e2c7e32a22bb9df183fba9': 3,\n",
       "  'a501b2c4157f1e5541149a5dc9aa008d': 6,\n",
       "  'a552853f0785922adab6cd27ee13b92e': 6,\n",
       "  'a66c84d6b9891340f68e0ad10241df6c': 6,\n",
       "  'a68868ec24e59735ad61261f840996ca': 3,\n",
       "  'a95cff27d2d1070a8af62d52ac570a57': 8,\n",
       "  'aa2add60c1e8cf8038a5c44b19ee88fa': 6,\n",
       "  'ab1d1929f8580dadb3c1fe4f506ca822': 6,\n",
       "  'ab845939c7bff549f43d09a46f06cea8': 6,\n",
       "  'abbc0aaa9f8795ac0a451c942f689cf0': 6,\n",
       "  'abe11fce80510dac023caf375e9d7278': 4,\n",
       "  'ac2855bab6874215cf24d72707f8573e': 3,\n",
       "  'ac3b07967c734046095eca46cc9fb01a': 3,\n",
       "  'aec84170c55d2d105dcedf63f621a123': 6,\n",
       "  'b009ddfb707f65b8cb8d189ac118f6ad': 6,\n",
       "  'b07d73b88b86df236dd85a2b3f9c4ee9': 6,\n",
       "  'b0ea94071012f0d9565534c328ff59e8': 6,\n",
       "  'b20c94c89a1592f63a36868906474925': 4,\n",
       "  'b337f999bdb142ed6cd56ce261d0d661': 3,\n",
       "  'b345181aa73743c89a6a8454343f7296': 3,\n",
       "  'b36b6cf9aabc5d1d419890abb3747776': 6,\n",
       "  'b382c87e76a2c9fdf90101ec1a4069eb': 8,\n",
       "  'b449caf2a89dd70cfa31922a5075cc91': 3,\n",
       "  'b46145cedc25a92fcce6d16fc2db5933': 6,\n",
       "  'b48e1c1b9fb7f535774b3b5d0f0a3797': 3,\n",
       "  'b6768cf44039ad2f0891a7991e596b41': 6,\n",
       "  'b78fe208bde05f9dcc35af6d4c700593': 3,\n",
       "  'b83ef76062dbc5b8bf8a76db27d44a8b': 4,\n",
       "  'b85ae8863ac9d94521fc6d8a866579d6': 4,\n",
       "  'b9e61edae5058e89226f8e9b4c8d258a': 6,\n",
       "  'bc98d40ca1f3e3f3c27bc15b5228fb68': 6,\n",
       "  'bd3e2f02a811a6c466a1058576315d04': 4,\n",
       "  'bda1db73850dfb351089c642f3f6cd5c': 8,\n",
       "  'be5498e5cc7f4df65eb351ee08f93368': 5,\n",
       "  'bf7e9232fd6e16db6a55ed5ebc3d57e8': 3,\n",
       "  'c0d19c7e2a6511e7575d4a12022015b9': 4,\n",
       "  'c0d9488fa141a27f397c8c5eeb9062d5': 6,\n",
       "  'c105af5dca0a8b62b043acf43d63290c': 6,\n",
       "  'c12251852ef5c2a651aa4f9745fd9b9d': 6,\n",
       "  'c1b597c8a91614c7254efbaaec00ba50': 6,\n",
       "  'c25f69760f51d05318aae7f15f7a9039': 6,\n",
       "  'c2681fd8e3386984f5f0b6dbb7de459e': 6,\n",
       "  'c2dfd8bb7c065b3d9195714b5ede63ad': 5,\n",
       "  'c4b36c6d0ee2322ea59426b0507c2622': 5,\n",
       "  'c6036d809d9defabc609ddfcfda65855': 5,\n",
       "  'c62031e690866c05490e517de04f527d': 3,\n",
       "  'c6931b38eaf003e18960c949b82a84c3': 3,\n",
       "  'c81ffad2b9cc6704f9211e0a8b33a3e2': 8,\n",
       "  'c879e7dd8c4bd8515bee525dc5ff0d2d': 6,\n",
       "  'c90324700a476ab0d1ec8f097258ea55': 8,\n",
       "  'c996dcad43470cb257b8dbd420a5e3d2': 5,\n",
       "  'c9e47f25327ce3bd2e8097496fa7c14b': 6,\n",
       "  'ca16b08401eeb16cc4855141ae5a0737': 6,\n",
       "  'cb47f8a1fe921518f25f9c64addb407d': 5,\n",
       "  'cb74e10a0d48a223b90e263f2bd46afc': 3,\n",
       "  'cb9a3f1f8e1fddc8da6b6e9110ba1f6a': 4,\n",
       "  'cccd7f9d592d5e7322085c95e0827b5e': 5,\n",
       "  'cf000cbcffca1c569966ecd91c67314e': 6,\n",
       "  'cf2b314af55047eb39c6f0f311e63fe0': 6,\n",
       "  'd1222a6fe92e61287e523132906a92b2': 6,\n",
       "  'd12f256b8606f901529025417b8fd90d': 4,\n",
       "  'd138e6a7fb90040432f08bf99968839f': 4,\n",
       "  'd291aff191d332fbbb1c210b4291d479': 3,\n",
       "  'd32c1e55128fef21a578a53e770a7671': 6,\n",
       "  'd40dc533c82d1b2883bc4c84a3d29e56': 6,\n",
       "  'd51bd031322866c97279e928fda19638': 3,\n",
       "  'd54abac55573567365a5d3d9ce3f3131': 6,\n",
       "  'd608b4bfa5ce6c9161b7312602877005': 6,\n",
       "  'd608fe3a696eb2166462fc2ea54ed549': 6,\n",
       "  'd73aa5b8db8c47619713f02bfc03039e': 5,\n",
       "  'd91b05269f855a2f230a8e2ad36295b8': 6,\n",
       "  'd9cc4b3710b246cda144bca117d5eb8f': 6,\n",
       "  'd9f1798209ce7baf0e385fd94537b760': 6,\n",
       "  'da750ca6b352bc3a2efe4f48be0e51f5': 3,\n",
       "  'db6be230305c2143d4f567a22748fc32': 5,\n",
       "  'db6ddb570f134bb9a177dc93b0173e1d': 4,\n",
       "  'dd563f1b6a36ef4fac23be8a7d1ddfcd': 8,\n",
       "  'dd645e31ce43ccfc5173e9c8306c3ce1': 5,\n",
       "  'de5471aab7f4bb5aa49e534c3caaba55': 3,\n",
       "  'df4ccf95e9f7028138dfc4fff4a16bb7': 4,\n",
       "  'dfe787be989e9d6358f63a9e3fc49f76': 4,\n",
       "  'e03d5a7050f5389dc69c3860fe2ef083': 6,\n",
       "  'e0d043b514b11235b9df95d4968dc694': 5,\n",
       "  'e0f18051c0f74ee1e37ab4710dfb55a7': 8,\n",
       "  'e14430f9fb8644242237bfe0c8b5f184': 6,\n",
       "  'e1e14d5b1f6becd48a7ac332a7823d00': 3,\n",
       "  'e22893adeb740fdaa5ad1d23626ebe66': 6,\n",
       "  'e2762502b2a5c04ef5cee1279a144c1e': 6,\n",
       "  'e3862631462920bdde61561709de1808': 6,\n",
       "  'e3cafe4eb1863b596879b4368a3e1031': 6,\n",
       "  'e47e4f0c793dc78240b04c6e3c2a7835': 6,\n",
       "  'e57ed1b6225c97455ccc5dfde6980fef': 6,\n",
       "  'e5b17332d19b8728c6e1495d3f007c0c': 8,\n",
       "  'e6235fd8047b9591548b7f70eefee8db': 5,\n",
       "  'e6e3bab2ecfd938b721fb7e87d81e79c': 6,\n",
       "  'e724319557b244bd1fc30430cf5bb6d6': 5,\n",
       "  'e903119061cacb294d6c7aee26b41ab5': 6,\n",
       "  'e906584b870a99a5a88895a33b8ecf81': 5,\n",
       "  'e9d0dee557ea5294bc87149484a2742d': 3,\n",
       "  'ec9dfc8cce56fc255cfae22b2a724f75': 6,\n",
       "  'ece1d7ce32af0faa8c17cf81a6138b31': 6,\n",
       "  'ee5ad1e209dd6a77bb98cad465c74691': 5,\n",
       "  'eeb5ff609de94e202c965ffa9a88ea2b': 3,\n",
       "  'ef0072df0c394c98716b25b995d87a6a': 4,\n",
       "  'f0a70192e291c1ee11f6842aab1f01fa': 6,\n",
       "  'f0b62530a745b20c85282f1ce5066b2c': 5,\n",
       "  'f2647b6954b25685704b3a4196658282': 4,\n",
       "  'f306f68bcaf92cfd08af6d165ca856eb': 3,\n",
       "  'f43ac7ccca853437ebd59ff85011eb03': 6,\n",
       "  'f6b3144f86fbb6a6f99ee97d1a387b4c': 5,\n",
       "  'f6d2325443f9e4aaa30b30773fe07dda': 6,\n",
       "  'f7d1476519e24ad52c79e13a56744a57': 6,\n",
       "  'f84b3a360c600e8075d1c59e9596cab5': 4,\n",
       "  'f87557ced4cf3d288908c5ef9f793b7e': 6,\n",
       "  'f979e005c25ba8b744374b892bca2cda': 5,\n",
       "  'f9bf3ac7e044f1824ce13f5019837851': 6,\n",
       "  'f9e4db24f4bc7917da3ab75f585c2a43': 6,\n",
       "  'f9ec651aa6d15cd6c74b3eaff5ef7e87': 5,\n",
       "  'fa8dfba1f0d9ef59879e101bf4c5b6f2': 8,\n",
       "  'faf993320b891d3f9972852c3b4bc312': 6,\n",
       "  'fb9a6a5978e3294d454902b21de840ad': 3,\n",
       "  'fc052cb42dbe3db89d7fb00dc0bd388c': 6,\n",
       "  'fc12cdc2bd917d3fe0ca7bface4d1d77': 4,\n",
       "  'fc53a9be11236a2bc1dcfd385666ae50': 6,\n",
       "  'ff2afe0a306be95ca73f9fdee97e51db': 1,\n",
       "  '8f8e594c7965dfda8a61e5da837f74c2': 1,\n",
       "  'a899761040870d6f783507c9158c76d7': 2,\n",
       "  'eefef269121c0df36328c6b5116dc979': 2,\n",
       "  '00ef4f42715aa0f8da0151b9c77838ee': 5,\n",
       "  '0153f9aca64bce7a7572e12ca02703ed': 6,\n",
       "  '01e0030675732ebc5b1cd4ef597ab2da': 4,\n",
       "  '0216634ee54142475ed342001e2dd66b': 8,\n",
       "  '06edc3f318057d99732b93a972ce9e50': 3,\n",
       "  '08162c521f2a400d4f1ba09dc8bfeae0': 6,\n",
       "  '08a62d599126e41f48a0909b36b84dba': 5,\n",
       "  '098ecdffd321d02c4b2e2e00be6d79d6': 5,\n",
       "  '0c8f5a976bf9247e239027ee347873b5': 4,\n",
       "  '0e316047c551dc2f5eea2db69e82dedf': 6,\n",
       "  '1188006a37dca9e23c2f58803b7e3000': 6,\n",
       "  '1216b87742ddbb117778996095acdf5e': 6,\n",
       "  '121f242bedbdd737fc18ed755eb76c21': 3,\n",
       "  '12bbaabdd8bca7509319ddee269cbf20': 4,\n",
       "  '1384dc0ce9c08cde0bb938cbfb625440': 5,\n",
       "  '16fc8a60907585831742405b9be6ea70': 6,\n",
       "  '17b5382d5ad10fb755689154e25ccd54': 4,\n",
       "  '181d9f4adcb53315a455f9e77267d2c7': 3,\n",
       "  '18c5192d99c0e1597c7af3dc084abd46': 5,\n",
       "  '190451005e22faa3c29896af8acae3a7': 6,\n",
       "  '1ab8f7edffa5edda62479113ecbfd15d': 4,\n",
       "  '1b4505738ad63842b1dd01bc735873c9': 6,\n",
       "  '1e1d7615186795a30f3f0d60642043e6': 3,\n",
       "  '1e28a6cfced6f9744cb7409fee47a46e': 5,\n",
       "  '1fad5090edd1969297abe7bf5bf77601': 4,\n",
       "  '2015578617638a93ecab51d60a5ead49': 6,\n",
       "  '20d6b1d0990b205408471acb9938b822': 5,\n",
       "  '26dace7a9ffe73713418e68b6acc7ecd': 6,\n",
       "  '2e088fc5b6ad8098ff52a4817aab3e8e': 6,\n",
       "  '2ffc864f747e629a8655ba8d99ba9be3': 6,\n",
       "  '32ad7dd79f9f3fa0e69d2dfe2588c2b5': 5,\n",
       "  '32ee57aa569fb4e1bb1c89fba4aee492': 4,\n",
       "  '36c68dc459071eaf5b2a0af9ac28fd4b': 6,\n",
       "  '380c71764078bf58580b55ee637911da': 4,\n",
       "  '38d5da522a64f81ee1d4c5b7cfe02624': 6,\n",
       "  '39e0247e47f6d13b69666005852429e4': 6,\n",
       "  '47680eca8fa6b8569b5f96b0d6c64da5': 6,\n",
       "  '503720fc21f5e6a4cb9f8653801ff5be': 4,\n",
       "  '5176ff8315742a33c34a523e9c87a855': 7,\n",
       "  '52f29679c6697f1964e63e9d788bd67c': 6,\n",
       "  '592a4f0d31c041f58e35150c2140900e': 5,\n",
       "  '5b818d5da5eaa723542b5489cb711082': 3,\n",
       "  '5c595a514808d8b0866813f6499182da': 4,\n",
       "  '5c68f00e2299f1968e06177d2e15d393': 3,\n",
       "  '5fc8f580bd93bf30df09d738d2e3b372': 5,\n",
       "  '60c081bc2b329853521d6b291a92e62b': 5,\n",
       "  '610cad1e46ef013d2fc8462bc681778b': 6,\n",
       "  '62ed24a4a5852124ec22d50c6e05d062': 6,\n",
       "  '65b9521e7dbd1c50fc5c0696b5f3a52c': 6,\n",
       "  '66e186c2c9b6b9548580792edd26d74b': 5,\n",
       "  '6b43d973899a822cb92a86f6f7985826': 6,\n",
       "  '6c47c100da12b3ce0a27dc707f6d3389': 4,\n",
       "  '6c77ed6a4d41bdc5af66ae3c53989ce6': 5,\n",
       "  '6d5d95f5e81c0e35e5feb05438597396': 5,\n",
       "  '712f9154562a0f3e5bfe1837bab72d26': 6,\n",
       "  '71ad5157a446e023aed89dbb07c07589': 6,\n",
       "  '71ff845633ec19d4cf176dbe6e269e31': 6,\n",
       "  '7224ffe5cef19073c2763ef251ca6f70': 3,\n",
       "  '76e3ee066aed571f6a7a8b01ee2b61c4': 3,\n",
       "  '7859eccd1ca2a9de0bf49eb266eb22d4': 6,\n",
       "  '796002f54808735847949501bfe84a1a': 6,\n",
       "  '79bb3e8b166dd293b1d05fad1879353f': 5,\n",
       "  '7ab0152d967f522f79d560653581d79d': 3,\n",
       "  '7ab4eebc08c2e49d317a9079310f56e4': 4,\n",
       "  '7b0671f41b75105b033906fca788e8e6': 5,\n",
       "  '7b819869fed9bf2079fb86b193c93761': 3,\n",
       "  '7b91dea6045e97c1029a07cbaf3a7864': 5,\n",
       "  '857f1d7949441ab40fe3d83de92c7de1': 5,\n",
       "  '8658ef9e63e96734f8dcf7ed85b6a6c5': 6,\n",
       "  '8860b18f6dcb895b801f4a73e5ce6cde': 4,\n",
       "  '8890f1518845e312f3459487893bb289': 6,\n",
       "  '8af4fe4ac55b4d558693131ae293d740': 6,\n",
       "  '90a1ee07e4945d417a927abd9bdf0297': 4,\n",
       "  '916d6af80dffc622a5d8fe0394a6ff13': 5,\n",
       "  '92a054fc7dacf1c49ec7dd0349ec378d': 5,\n",
       "  '948453c23b68e24220a428d7536ed69e': 4,\n",
       "  '9779ff38e2ae1997019e504abb2ebbe3': 4,\n",
       "  '97e159c886584f7fe70e910bca86efa2': 4,\n",
       "  '9b97df5c18d39add8ad864a6aa4762a2': 6,\n",
       "  '9bda7748bdc5dbaf48bc1b06b2f9ff52': 6,\n",
       "  'a021d3d454244f020908ebe2a3b105bb': 7,\n",
       "  'a03103b4e080cc92004703053bb59643': 5,\n",
       "  'a09b1d275215ff5f2a9f514a678938cf': 3,\n",
       "  'a0fe3aa82a7678f976b9e71af85d342e': 8,\n",
       "  'a1a069c95a26eb5dede065f575daea8b': 6,\n",
       "  'a255671f9dfc2247c893ae3abb00e04b': 3,\n",
       "  'a2a47a6ce3dccdd0dbe12e469bf00736': 6,\n",
       "  'a2f4c553a1973bcab0e5b1b5f8252fec': 6,\n",
       "  'a3cab38ea2a4b4bf5d84ac04604f7c34': 6,\n",
       "  'a418623f14247a6fa164ddb6b73d3ec9': 3,\n",
       "  'a5b95124c25a7b16a4aaf7e6eb77cdd6': 5,\n",
       "  'a79adcd3f3ebc6b91407c3baf90fcd9b': 6,\n",
       "  'a99e5a98f4cf8da523152e19cc19208a': 3,\n",
       "  'aa2b8cc8c858e4703bba909db6cb86ea': 1,\n",
       "  'ac46e375c440e80f4723c4bf49c63cf2': 3,\n",
       "  'ad2bcf4b6b83907a9cf4cc1cb6fec8ea': 8,\n",
       "  'ae33b52257f83658c28f48bef3294768': 5,\n",
       "  'af994739a0b07580f686c413e31700f2': 4,\n",
       "  'b2bf95f85a81a362f0a8c4b83f3d2d39': 4,\n",
       "  'b3fb4e68a3e85911d00f14b9c48e798b': 3,\n",
       "  'b5998f7fb1da9ad6fdb5f3003deccd94': 4,\n",
       "  'b638437761cb3ed3b9324cc35d388edd': 5,\n",
       "  'bc7afe3e54f736979acd0050535275f8': 6,\n",
       "  'c0113b8ec966e6fd90fef2cab844d0a3': 6,\n",
       "  'c191cde31ed0f5224143e9f4385fcb7f': 6,\n",
       "  'c2a1b244b4e58ae4b627796eb58c66b3': 6,\n",
       "  'c46e08669b2830833d8765eda90b567c': 8,\n",
       "  'c5735f51d9c55ce6b617d011cb447eff': 6,\n",
       "  'c5e080358b28c390cd20ec0d3fe1e628': 4,\n",
       "  'c65d2e179691755478576604b821ed80': 6,\n",
       "  'c6d4da3f1825d97939d4bd280530e75f': 3,\n",
       "  'c6f3fad83222c490b75eb0672ce00b95': 6,\n",
       "  'c70ac9cfcb7462fe9cad0854b8278200': 2,\n",
       "  'cb3eab7f3012fe78f018a4586e2cb445': 3,\n",
       "  'cba973f80808a77e7767ab9e9b40c3a3': 6,\n",
       "  'cdf3859fa5c1078cf0fab30944cd6acb': 3,\n",
       "  'd1cf15022b35349c185e34d3ce373eb3': 6,\n",
       "  'd4b28ba6d6a47103690a4a5b02ed63a8': 6,\n",
       "  'd4f31551c75d63408247c74b6bd4052e': 5,\n",
       "  'daf0d2db656bd39a76bfd057a865d8d3': 4,\n",
       "  'dd7cdec28e37b1d21ef8f37163807d1a': 6,\n",
       "  'e0ac3939b94294f7c5656aafbd43fdba': 4,\n",
       "  'e10f42bf8e9aaeca2cde8efdfdc519ec': 5,\n",
       "  'e11dc3249a31879a5061278120991ce0': 3,\n",
       "  'e43740376fffc69e4f9240f55bf111b3': 3,\n",
       "  'e6b841e56f365250eba20eb9493549ec': 6,\n",
       "  'e7bef7aecdfee77c576e4f9bf86ad4cb': 4,\n",
       "  'e8408ab38de12e6f9e04623e03221feb': 5,\n",
       "  'eb7f1e152b5d0b224e04a6ae16e3068e': 4,\n",
       "  'ed0e5cbfdd6b3640fab08817ec0b386f': 3,\n",
       "  'ed69de97921a587dd992d0d506493fb8': 3,\n",
       "  'ed74a20edcec186f280b3d076642eb83': 4,\n",
       "  'f636d0543569380ba513c69ba5a40357': 3,\n",
       "  'fa1e75ca6e0bc475f77b8be8bac8ce1d': 5,\n",
       "  'fa43f622450cdc66bff7547ef77c9c20': 3,\n",
       "  'fbab879ea60b9c92b26ae4ced8ba7395': 3,\n",
       "  'fdf52ed22ca63ae7381f06ac32d6a3c9': 6,\n",
       "  'ffb283877da83f3ba1a040350b0ba57c': 4,\n",
       "  'ffdff1f963e14b31de6b82bba5ded94c': 3,\n",
       "  'f048873d78d8833e1a2c0d7c2391a9bb': 1,\n",
       "  'de61f36d6a4c6b9713e445ab4d801ea9': 1,\n",
       "  '90f505f7625cd121e99af6e81a1a1013': 1}}"
      ]
     },
     "execution_count": 48,
     "metadata": {},
     "output_type": "execute_result"
    }
   ],
   "source": [
    "serialized_object"
   ]
  },
  {
   "cell_type": "code",
   "execution_count": 49,
   "metadata": {},
   "outputs": [],
   "source": [
    "commit_id2 = client.commit.create(\n",
    "    branch_name=branch.name,\n",
    "    stream_id=stream_id,\n",
    "    object_id=obj_id,\n",
    "    message=\"federated commit\",\n",
    ")"
   ]
  },
  {
   "attachments": {},
   "cell_type": "markdown",
   "metadata": {},
   "source": [
    "Once again we build the embed URL and display it."
   ]
  },
  {
   "cell_type": "code",
   "execution_count": null,
   "metadata": {},
   "outputs": [],
   "source": []
  },
  {
   "cell_type": "code",
   "execution_count": 50,
   "metadata": {},
   "outputs": [
    {
     "data": {
      "text/html": [
       "\n",
       "        <iframe\n",
       "            width=\"400\"\n",
       "            height=\"300\"\n",
       "            src=\"https://speckle.xyz/embed?stream=7ce9010d71&commit=53862c7bc6&transparent=True&autoload=True&hidecontrols=False&hidesidebar=True&hideselectioninfo=True\"\n",
       "            frameborder=\"0\"\n",
       "            allowfullscreen\n",
       "            \n",
       "        ></iframe>\n",
       "        "
      ],
      "text/plain": [
       "<IPython.lib.display.IFrame at 0x7f174a098e80>"
      ]
     },
     "execution_count": 50,
     "metadata": {},
     "output_type": "execute_result"
    }
   ],
   "source": [
    "embed_url2 = f\"https://speckle.xyz/embed?stream={stream_id}&commit={commit_id2}&transparent={transparency}&autoload={autoload}&hidecontrols={hide_controls}&hidesidebar={hide_sidebar}&hideselectioninfo={hide_selection_info}\"\n",
    "\n",
    "from IPython.display import IFrame\n",
    "\n",
    "IFrame(embed_url2, width=400, height=300)"
   ]
  },
  {
   "cell_type": "code",
   "execution_count": 51,
   "metadata": {},
   "outputs": [
    {
     "data": {
      "text/plain": [
       "'https://speckle.xyz/embed?stream=7ce9010d71&commit=53862c7bc6&transparent=True&autoload=True&hidecontrols=False&hidesidebar=True&hideselectioninfo=True'"
      ]
     },
     "execution_count": 51,
     "metadata": {},
     "output_type": "execute_result"
    }
   ],
   "source": [
    "embed_url2"
   ]
  },
  {
   "attachments": {},
   "cell_type": "markdown",
   "metadata": {},
   "source": [
    "This federation is kinda simple, kinda clunky and doesn't de-dupe at all as it is not even examining the content of the individual commits.\n",
    "\n",
    "To do anything approaching this we need to:\n",
    "\n",
    "- load the child members of each commit\n",
    "- have a strategy for de-duping\n",
    "- have a strategy for merging\n",
    "- have a strategy for handling any other conflicts\n"
   ]
  },
  {
   "cell_type": "markdown",
   "metadata": {},
   "source": [
    "\n",
    "## Benchmark 3: Combine commits and de-dupe"
   ]
  },
  {
   "attachments": {},
   "cell_type": "markdown",
   "metadata": {},
   "source": [
    "The next step is to extract the component objects from each commit and then de-dupe them. This is a bit more involved as we need to load the objects from the server and then compare them. We also need to be able to merge them."
   ]
  },
  {
   "cell_type": "code",
   "execution_count": 22,
   "metadata": {},
   "outputs": [],
   "source": [
    "from specklepy.api import operations\n",
    "\n",
    "commit_data = [\n",
    "    operations.receive(obj_id=ref_obj, remote_transport=wrap.get_transport())\n",
    "    for ref_obj, wrap in zip(referenced_objects, wrappers)\n",
    "]"
   ]
  },
  {
   "attachments": {},
   "cell_type": "markdown",
   "metadata": {},
   "source": [
    "We create 3 Base objects and create a commit essentially identical to Benchmark 2."
   ]
  },
  {
   "cell_type": "code",
   "execution_count": 26,
   "metadata": {},
   "outputs": [],
   "source": [
    "from specklepy.objects import Base\n",
    "\n",
    "granular_commit_object = Base(speckle_type=\"Federation.Granular\")\n",
    "granular_commit_object[\"@Components\"] = commit_data"
   ]
  },
  {
   "attachments": {},
   "cell_type": "markdown",
   "metadata": {},
   "source": [
    "... and hash them"
   ]
  },
  {
   "cell_type": "code",
   "execution_count": 27,
   "metadata": {},
   "outputs": [],
   "source": [
    "hash3 = operations.send(base=another_commit_object, transports=[transport])"
   ]
  },
  {
   "cell_type": "markdown",
   "metadata": {},
   "source": [
    "On the basis of some of the other discussions around Versions, Federations, Assemblies, Exchanges etc. We can store this new commit on a dedicated branch."
   ]
  },
  {
   "cell_type": "code",
   "execution_count": 33,
   "metadata": {},
   "outputs": [],
   "source": [
    "from specklepy.api import operations\n",
    "from specklepy.logging.exceptions import GraphQLException\n",
    "\n",
    "# A helper function to create a new branch if one doesn't exist, or return it if it does\n",
    "def try_get_branch_or_create(client, stream_id, branch_name):\n",
    "    try:\n",
    "        client.branch.get(\n",
    "            stream_id=stream_id, name=branch_name\n",
    "        ) or client.branch.create(stream_id=stream_id, name=branch_name)\n",
    "        return client.branch.get(\n",
    "            stream_id=stream_id, name=branch_name)\n",
    "    except GraphQLException:\n",
    "        return client.branch.create(stream_id=stream_id, name=branch_name)\n",
    "\n",
    "\n",
    "branch = try_get_branch_or_create(client, stream_id, \"federated\")"
   ]
  },
  {
   "cell_type": "code",
   "execution_count": 34,
   "metadata": {},
   "outputs": [
    {
     "data": {
      "text/plain": [
       "Branch(id='45107b16b6', name='federated', description='No description provided', commits=Commits(totalCount=32, cursor=datetime.datetime(2023, 1, 12, 18, 5, 57, tzinfo=datetime.timezone.utc), items=[Commit( id: 322d9849b0, message: federated commit, referencedObject: 9aef9ae333044e2129f4ab443bd5f50c, authorName: Jonathon Broughton, branchName: federated, createdAt: 2023-01-16 14:34:11.672000+00:00 ), Commit( id: 6b6d7bc1fb, message: federated commit, referencedObject: 5e9ac0017b74034997dbe5fa45714a90, authorName: Jonathon Broughton, branchName: federated, createdAt: 2023-01-16 14:34:03.628000+00:00 ), Commit( id: 8671501e17, message: federated commit, referencedObject: 9aef9ae333044e2129f4ab443bd5f50c, authorName: Jonathon Broughton, branchName: federated, createdAt: 2023-01-12 18:46:30.143000+00:00 ), Commit( id: 8d1f6ccc12, message: federated commit, referencedObject: ca357c1a3580ff9203d4e11642c6a0d4, authorName: Jonathon Broughton, branchName: federated, createdAt: 2023-01-12 18:45:40.185000+00:00 ), Commit( id: 9f68a5fd17, message: federated commit, referencedObject: 5e9ac0017b74034997dbe5fa45714a90, authorName: Jonathon Broughton, branchName: federated, createdAt: 2023-01-12 18:32:23.926000+00:00 ), Commit( id: 7ba4a2e96a, message: federated commit, referencedObject: 425ca4a5cf56b9cb5f539e407aa61817, authorName: Jonathon Broughton, branchName: federated, createdAt: 2023-01-12 18:11:45.086000+00:00 ), Commit( id: 3589251033, message: federated commit, referencedObject: 820e577420b186260bc0be8aad33a9fe, authorName: Jonathon Broughton, branchName: federated, createdAt: 2023-01-12 18:11:17.270000+00:00 ), Commit( id: 1e22519284, message: federated commit, referencedObject: 425ca4a5cf56b9cb5f539e407aa61817, authorName: Jonathon Broughton, branchName: federated, createdAt: 2023-01-12 18:09:29.246000+00:00 ), Commit( id: 88b349b637, message: federated commit, referencedObject: de8080013d8544555582856bb333338e, authorName: Jonathon Broughton, branchName: federated, createdAt: 2023-01-12 18:08:46.909000+00:00 ), Commit( id: f15e7583d0, message: federated commit, referencedObject: da5230a7b851a9dd7fb31560b9091ad7, authorName: Jonathon Broughton, branchName: federated, createdAt: 2023-01-12 18:05:57+00:00 )]))"
      ]
     },
     "execution_count": 34,
     "metadata": {},
     "output_type": "execute_result"
    }
   ],
   "source": [
    "branch"
   ]
  },
  {
   "attachments": {},
   "cell_type": "markdown",
   "metadata": {},
   "source": [
    "And then we create a new commit that contains the resolved objects"
   ]
  },
  {
   "cell_type": "code",
   "execution_count": 36,
   "metadata": {},
   "outputs": [],
   "source": [
    "commit_id3 = client.commit.create(\n",
    "\n",
    "    branch_name=branch.name,\n",
    "    stream_id=stream_id,\n",
    "    object_id=hash3,\n",
    "    message=\"federated commit\",\n",
    ")\n"
   ]
  },
  {
   "cell_type": "code",
   "execution_count": 37,
   "metadata": {},
   "outputs": [
    {
     "data": {
      "text/html": [
       "\n",
       "        <iframe\n",
       "            width=\"400\"\n",
       "            height=\"300\"\n",
       "            src=\"https://speckle.xyz/embed?stream=7ce9010d71&commit=c31bd79d1b&transparent=True&autoload=True&hidecontrols=False&hidesidebar=True&hideselectioninfo=True\"\n",
       "            frameborder=\"0\"\n",
       "            allowfullscreen\n",
       "            \n",
       "        ></iframe>\n",
       "        "
      ],
      "text/plain": [
       "<IPython.lib.display.IFrame at 0x7f176ca9ceb0>"
      ]
     },
     "execution_count": 37,
     "metadata": {},
     "output_type": "execute_result"
    }
   ],
   "source": [
    "\n",
    "embed_url3 = f\"https://speckle.xyz/embed?stream={stream_id}&commit={commit_id3}&transparent={transparency}&autoload={autoload}&hidecontrols={hide_controls}&hidesidebar={hide_sidebar}&hideselectioninfo={hide_selection_info}\"\n",
    "\n",
    "from IPython.display import IFrame\n",
    "\n",
    "IFrame(embed_url3, width=400, height=300)"
   ]
  },
  {
   "cell_type": "code",
   "execution_count": 38,
   "metadata": {},
   "outputs": [
    {
     "data": {
      "text/plain": [
       "'https://speckle.xyz/embed?stream=7ce9010d71&commit=c31bd79d1b&transparent=True&autoload=True&hidecontrols=False&hidesidebar=True&hideselectioninfo=True'"
      ]
     },
     "execution_count": 38,
     "metadata": {},
     "output_type": "execute_result"
    }
   ],
   "source": [
    "embed_url3"
   ]
  }
 ],
 "metadata": {
  "kernelspec": {
   "display_name": ".venv",
   "language": "python",
   "name": "python3"
  },
  "language_info": {
   "codemirror_mode": {
    "name": "ipython",
    "version": 3
   },
   "file_extension": ".py",
   "mimetype": "text/x-python",
   "name": "python",
   "nbconvert_exporter": "python",
   "pygments_lexer": "ipython3",
   "version": "3.8.10"
  },
  "orig_nbformat": 4,
  "vscode": {
   "interpreter": {
    "hash": "45f9bfc3cfa5df489a8f54cf5dd156d63ded8df040fdba570ad88388c9ab2962"
   }
  }
 },
 "nbformat": 4,
 "nbformat_minor": 2
}
