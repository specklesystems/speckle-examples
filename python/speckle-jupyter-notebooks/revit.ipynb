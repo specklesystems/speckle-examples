{
 "cells": [
  {
   "cell_type": "markdown",
   "metadata": {},
   "source": [
    "Overview of Revit Integration with Speckle\n",
    "This Jupyter Notebook outlines the integration between Revit and Speckle, providing code snippets and workflows for various functionalities.\n",
    "\n",
    "Table of Contents\n",
    "Setup and Initialization\n",
    "Creating Branches\n",
    "Committing Changes\n",
    "Error Handling\n",
    "Future Work\n",
    "Setup and Initialization\n",
    "This section includes code to initialize the Speckle client and connect to Revit."
   ]
  },
  {
   "cell_type": "code",
   "execution_count": 5,
   "metadata": {},
   "outputs": [],
   "source": [
    "%%capture\n",
    "%pip install specklepy\n",
    "\n",
    "# dotenv is a library that allows you to load environment variables from a .env file\n",
    "%pip install python-dotenv\n",
    "%reload_ext dotenv\n",
    "%dotenv"
   ]
  },
  {
   "cell_type": "code",
   "execution_count": 6,
   "metadata": {},
   "outputs": [],
   "source": [
    "import os\n",
    "HOST_SERVER = os.getenv('HOST_SERVER')\n",
    "ACCESS_TOKEN = os.getenv('ACCESS_TOKEN')"
   ]
  },
  {
   "cell_type": "code",
   "execution_count": 7,
   "metadata": {},
   "outputs": [],
   "source": [
    "from specklepy.api.client import SpeckleClient\n",
    "\n",
    "client = SpeckleClient(host=HOST_SERVER)  # or whatever your host is\n",
    "client.authenticate_with_token(ACCESS_TOKEN)  # or whatever your token is"
   ]
  },
  {
   "cell_type": "code",
   "execution_count": 17,
   "metadata": {},
   "outputs": [],
   "source": [
    "stream_id = \"538fcacdbe\"  # or whatever your stream id is\n",
    "\n",
    "stream = client.stream.get(stream_id)"
   ]
  },
  {
   "cell_type": "code",
   "execution_count": 18,
   "metadata": {},
   "outputs": [],
   "source": [
    "stream_id = \"538fcacdbe\"  # or whatever your stream id is\n",
    "commit_id= \"b8f8784a98\"\n",
    "\n",
    "commit = client.commit.get(commit_id=commit_id, stream_id=stream_id)"
   ]
  },
  {
   "cell_type": "code",
   "execution_count": 27,
   "metadata": {},
   "outputs": [],
   "source": [
    "commit_payload_id = commit.referencedObject\n",
    "\n",
    "from specklepy.transports.server import ServerTransport\n",
    "from specklepy.api import operations\n",
    "\n",
    "transport = ServerTransport(client=client, stream_id=stream_id)\n",
    "commit_payload = operations.receive(obj_id=commit_payload_id, remote_transport=transport)"
   ]
  },
  {
   "cell_type": "code",
   "execution_count": 25,
   "metadata": {},
   "outputs": [],
   "source": [
    "from specklepy.objects import Base\n",
    "from collections.abc import Mapping, Iterable\n",
    "\n",
    "\n",
    "def should_include(obj):\n",
    "    \"\"\"Define a logic for what objects to include in the diff\"\"\"\n",
    "    return any(\n",
    "        [\n",
    "            hasattr(obj, \"displayValue\"),\n",
    "            hasattr(obj, \"speckle_type\")\n",
    "            and obj.speckle_type == \"Objects.Organization.Collection\",\n",
    "            hasattr(obj, \"displayStyle\"),\n",
    "        ]\n",
    "    )\n",
    "\n",
    "\n",
    "def flatten(obj, visited=None, include_func=should_include):\n",
    "    \"\"\"Flattens nested object structures based on given criteria.\n",
    "\n",
    "    Parameters:\n",
    "        obj: The object to flatten.\n",
    "        visited: Set of objects that have already been visited to avoid circular references.\n",
    "        include_func: Function to determine if an object should be included in the output.\n",
    "    \"\"\"\n",
    "    if visited is None:\n",
    "        visited = set()\n",
    "\n",
    "    if obj in visited:\n",
    "        return\n",
    "\n",
    "    visited.add(obj)\n",
    "\n",
    "    if include_func(obj):\n",
    "        yield obj\n",
    "\n",
    "    props = obj.__dict__ if hasattr(obj, \"__dict__\") else {}\n",
    "\n",
    "    for prop in props:\n",
    "        value = getattr(obj, prop)\n",
    "\n",
    "        if value is None:\n",
    "            continue\n",
    "\n",
    "        if isinstance(value, Base):\n",
    "            yield from flatten(value, visited, include_func)\n",
    "\n",
    "        elif isinstance(value, Mapping):\n",
    "            for dict_value in value.values():\n",
    "                if isinstance(dict_value, Base):\n",
    "                    yield from flatten(dict_value, visited, include_func)\n",
    "\n",
    "        elif isinstance(value, Iterable):\n",
    "            for list_value in value:\n",
    "                if isinstance(list_value, Base):\n",
    "                    yield from flatten(list_value, visited, include_func)"
   ]
  },
  {
   "cell_type": "code",
   "execution_count": 29,
   "metadata": {},
   "outputs": [],
   "source": [
    "all_objects = list(flatten(commit_payload))"
   ]
  },
  {
   "cell_type": "code",
   "execution_count": 30,
   "metadata": {},
   "outputs": [],
   "source": [
    "from specklepy.objects.other import Collection\n",
    "\n",
    "new_commit = Collection(collectionType=\"flat_list\", name=\"Processed Data\", elements=[])\n",
    "\n",
    "new_commit.elements = all_objects"
   ]
  },
  {
   "cell_type": "code",
   "execution_count": 31,
   "metadata": {},
   "outputs": [],
   "source": [
    "# Send the points using a specific transport\n",
    "newHash = operations.send(base=new_commit, transports=[transport])"
   ]
  },
  {
   "cell_type": "code",
   "execution_count": 65,
   "metadata": {},
   "outputs": [],
   "source": [
    "from specklepy.logging.exceptions import GraphQLException\n",
    "\n",
    "\n",
    "def new_branch(stream_id: str, branch_name: str) -> str:\n",
    "    \"\"\"Creates a new branch in a stream.\n",
    "\n",
    "    Parameters:\n",
    "        stream_id: The stream id.\n",
    "        branch_name: The name of the new branch.\n",
    "    \"\"\"\n",
    "    try:\n",
    "        client.branch.create(stream_id, name=branch_name)\n",
    "    finally:\n",
    "        return client.branch.get(stream_id, name=branch_name)"
   ]
  },
  {
   "cell_type": "code",
   "execution_count": 66,
   "metadata": {},
   "outputs": [],
   "source": [
    "branch = new_branch(stream_id=stream_id, branch_name=\"jssadb\")\n",
    "\n",
    "commit_id = client.commit.create(\n",
    "        stream_id,\n",
    "        newHash,\n",
    "        branch.name,\n",
    "        message=\"Commit\",\n",
    "    )"
   ]
  }
 ],
 "metadata": {
  "kernelspec": {
   "display_name": ".venv",
   "language": "python",
   "name": "python3"
  },
  "language_info": {
   "codemirror_mode": {
    "name": "ipython",
    "version": 3
   },
   "file_extension": ".py",
   "mimetype": "text/x-python",
   "name": "python",
   "nbconvert_exporter": "python",
   "pygments_lexer": "ipython3",
   "version": "3.8.10"
  },
  "orig_nbformat": 4
 },
 "nbformat": 4,
 "nbformat_minor": 2
}
