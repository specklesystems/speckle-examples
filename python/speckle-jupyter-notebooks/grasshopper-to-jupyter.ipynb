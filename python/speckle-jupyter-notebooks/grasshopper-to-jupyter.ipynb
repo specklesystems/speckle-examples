{
 "cells": [
  {
   "attachments": {},
   "cell_type": "markdown",
   "id": "17e1ee48",
   "metadata": {},
   "source": [
    "# Working with GH Data in Jupyter via SpecklePy🐍"
   ]
  },
  {
   "attachments": {},
   "cell_type": "markdown",
   "id": "b19579d1",
   "metadata": {},
   "source": [
    "### Purpose\n",
    "\n",
    "We want to access data produced in Grasshopper and sent to a Speckle Stream. The intended destination is run some analytics using pandas' dataframes.\n",
    "\n",
    "### Setup\n",
    "\n",
    "The only dependency we'll need for this simeple example is Specklepy.\n",
    "\n",
    "If you are running jupyter in a venv, or don't have specklepy installed, we'll do that first👇"
   ]
  },
  {
   "cell_type": "code",
   "execution_count": 55,
   "id": "d3d134f5",
   "metadata": {},
   "outputs": [],
   "source": [
    "%%capture\n",
    "# capture turns off the output for this cell which would just be the pip install log 🤫\n",
    "%pip install specklepy"
   ]
  },
  {
   "attachments": {},
   "cell_type": "markdown",
   "id": "78e9c592",
   "metadata": {},
   "source": [
    "With that installed, we'll use the StreamWrapper helper function to make accessing our Speckle data easy. This wrapper will automatically connect to the server you specify with any accounts you have already setup locally."
   ]
  },
  {
   "cell_type": "code",
   "execution_count": 56,
   "id": "023504e7",
   "metadata": {},
   "outputs": [],
   "source": [
    "from specklepy.api.wrapper import StreamWrapper\n",
    "\n",
    "# Your Speckle Stream URL goes here 👇\n",
    "stream_url = \"https://speckle.xyz/streams/275f928307\"\n",
    "\n",
    "# wrapper\n",
    "wrapper = StreamWrapper(stream_url)\n"
   ]
  },
  {
   "attachments": {},
   "cell_type": "markdown",
   "id": "5027dbb4",
   "metadata": {},
   "source": [
    "The wrapper automagically wrangles your accounts and the url into the connection parts we need.\n",
    "\n",
    "A `client` will interface with the Project Streams, and the `transport` will handle the data stuff. "
   ]
  },
  {
   "attachments": {},
   "cell_type": "markdown",
   "id": "4108c1e6",
   "metadata": {},
   "source": [
    "With those in place, to receive our GH Data from Speckle server, we use the operations module."
   ]
  },
  {
   "cell_type": "code",
   "execution_count": 58,
   "id": "e64ea704",
   "metadata": {},
   "outputs": [],
   "source": [
    "from specklepy.api import operations\n",
    "\n",
    "# Receive data in Python\n",
    "commit = wrapper.get_client().commit.list(wrapper.stream_id, limit=1)[0]\n",
    "\n",
    "# get obj id from commit\n",
    "obj_id = commit.referencedObject\n",
    "\n",
    "# receive objects from speckle\n",
    "commit_data = operations.receive(\n",
    "    obj_id=obj_id, remote_transport=wrapper.get_transport()\n",
    ")\n"
   ]
  },
  {
   "attachments": {},
   "cell_type": "markdown",
   "id": "b234c231",
   "metadata": {},
   "source": [
    "Working with the commit data 👇"
   ]
  },
  {
   "cell_type": "code",
   "execution_count": null,
   "id": "2aa0fc73",
   "metadata": {},
   "outputs": [
    {
     "data": {
      "text/plain": [
       "[0, 20, 40, 60, 80, 100, 120, 140, 160, 180]"
      ]
     },
     "execution_count": 46,
     "metadata": {},
     "output_type": "execute_result"
    }
   ],
   "source": [
    "# Special to GH commits, we access the data with the @Data reference.\n",
    "# From there we can use familiar GH tree notation.\n",
    "\n",
    "gh_data = commit_data[\"@Data\"][\"@{0;0}\"]\n",
    "\n",
    "# print out the result\n",
    "gh_data\n"
   ]
  }
 ],
 "metadata": {
  "kernelspec": {
   "display_name": ".venv",
   "language": "python",
   "name": "python3"
  },
  "language_info": {
   "codemirror_mode": {
    "name": "ipython",
    "version": 3
   },
   "file_extension": ".py",
   "mimetype": "text/x-python",
   "name": "python",
   "nbconvert_exporter": "python",
   "pygments_lexer": "ipython3",
   "version": "3.8.10 (default, Nov 14 2022, 12:59:47) \n[GCC 9.4.0]"
  },
  "vscode": {
   "interpreter": {
    "hash": "64e7110d92f5129603bfbc4951b1249971017f9392d0479770ac574db3f12067"
   }
  }
 },
 "nbformat": 4,
 "nbformat_minor": 5
}
